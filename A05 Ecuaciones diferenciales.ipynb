{
 "cells": [
  {
   "cell_type": "markdown",
   "metadata": {},
   "source": [
    "# Actividad - Ecuaciones diferenciales"
   ]
  },
  {
   "cell_type": "code",
   "execution_count": 5,
   "metadata": {},
   "outputs": [],
   "source": [
    "import numpy as np\n",
    "import matplotlib.pyplot as plt\n",
    "%matplotlib inline\n",
    "from scipy.integrate import solve_ivp, odeint"
   ]
  },
  {
   "cell_type": "markdown",
   "metadata": {},
   "source": [
    "1. Resolver numéricamente con `solve_ivp` la siguiente ecuación diferencial:\n",
    "$$\\frac{dx}{dt}=\\frac{x}{t+1}$$"
   ]
  },
  {
   "cell_type": "code",
   "execution_count": 23,
   "metadata": {},
   "outputs": [],
   "source": [
    "def sol(t, x):\n",
    "    return x/(t+1)\n",
    "\n",
    "tspan = [0, 10]\n",
    "x0 = np.array([2])\n",
    "sol_x = solve_ivp(sol, tspan, x0, max_step=0.1)"
   ]
  },
  {
   "cell_type": "markdown",
   "metadata": {},
   "source": [
    "Grafique con condición inicial $x_0 = 2$"
   ]
  },
  {
   "cell_type": "code",
   "execution_count": 24,
   "metadata": {},
   "outputs": [
    {
     "data": {
      "image/png": "[encoded data removed]",
      "text/plain": [
       "<Figure size 432x288 with 1 Axes>"
      ]
     },
     "metadata": {
      "needs_background": "light"
     },
     "output_type": "display_data"
    }
   ],
   "source": [
    "plt.figure()\n",
    "plt.plot(sol_x.t, sol_x.y[0, :], 'r', label='Solución numérica')\n",
    "plt.legend(loc='best')\n",
    "plt.grid()"
   ]
  },
  {
   "cell_type": "markdown",
   "metadata": {},
   "source": [
    "2. Encuentre la solución numérica para un oscilador armónico simple:\n",
    "\n",
    "$$\n",
    "\\frac{d^2 x}{dt^2} +  \\omega_{0}^2 x = 0.\n",
    "$$\n",
    "Donde $x_0=0.5$, $\\dot{x}_0=0.1$ y $\\omega_0=3$."
   ]
  },
  {
   "cell_type": "markdown",
   "metadata": {},
   "source": [
    "2.1 Defina una función, cuyos argumentos de entrada sean:\n",
    "\n",
    "\n",
    "1. el tiempo $t$,\n",
    "2. el arreglo $[x,\\dot{x}]$.\n",
    "\n",
    "Y la salida:\n",
    "\n",
    "1. el arreglo $[\\dot{x},\\ddot{x}]$.\n",
    "\n",
    "  Considerando el argumento de la frecuencia natural $\\omega_0$ debe ser una variable global."
   ]
  },
  {
   "cell_type": "code",
   "execution_count": null,
   "metadata": {},
   "outputs": [],
   "source": [
    "def "
   ]
  },
  {
   "cell_type": "markdown",
   "metadata": {},
   "source": [
    "Grafique"
   ]
  },
  {
   "cell_type": "code",
   "execution_count": null,
   "metadata": {},
   "outputs": [],
   "source": []
  },
  {
   "cell_type": "markdown",
   "metadata": {},
   "source": [
    "Asigne a los parámetros de la solución analítica $C_1=x_0$ y $C_2=\\frac{\\dot{x}_0}{\\omega_0}$."
   ]
  },
  {
   "cell_type": "code",
   "execution_count": null,
   "metadata": {},
   "outputs": [],
   "source": []
  },
  {
   "cell_type": "markdown",
   "metadata": {},
   "source": [
    "Redefina la función para graficarla (con la palabra reservada ***def***) en un intervalo de tiempo de 0 a 2 segundos. Comparela en un mismo grafico con la solución numérica obtenida."
   ]
  },
  {
   "cell_type": "code",
   "execution_count": null,
   "metadata": {},
   "outputs": [],
   "source": []
  }
 ],
 "metadata": {
  "kernelspec": {
   "display_name": "Python 3 (ipykernel)",
   "language": "python",
   "name": "python3"
  },
  "language_info": {
   "codemirror_mode": {
    "name": "ipython",
    "version": 3
   },
   "file_extension": ".py",
   "mimetype": "text/x-python",
   "name": "python",
   "nbconvert_exporter": "python",
   "pygments_lexer": "ipython3",
   "version": "3.9.7"
  }
 },
 "nbformat": 4,
 "nbformat_minor": 2
}
