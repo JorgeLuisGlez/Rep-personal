{
 "cells": [
  {
   "cell_type": "markdown",
   "metadata": {},
   "source": [
    "# Ejercicios de optimización escalar"
   ]
  },
  {
   "cell_type": "markdown",
   "metadata": {},
   "source": [
    "**Para la siguientes funciones encuentre los puntos críticos, grafique y diga si éste se trata de un máximo o mínimo, local o global.**"
   ]
  },
  {
   "cell_type": "markdown",
   "metadata": {},
   "source": [
    "$f(x)=1260+117x-9x^2$"
   ]
  },
  {
   "cell_type": "code",
   "execution_count": 7,
   "metadata": {},
   "outputs": [
    {
     "data": {
      "text/plain": [
       "[<matplotlib.lines.Line2D at 0x2b88d3aa130>]"
      ]
     },
     "execution_count": 7,
     "metadata": {},
     "output_type": "execute_result"
    },
    {
     "data": {
      "image/png": "[encoded data removed]",
      "text/plain": [
       "<Figure size 432x288 with 1 Axes>"
      ]
     },
     "metadata": {
      "needs_background": "light"
     },
     "output_type": "display_data"
    }
   ],
   "source": [
    "import numpy as np\n",
    "import sympy as sp\n",
    "import matplotlib.pyplot as plt\n",
    "\n",
    "%matplotlib inline\n",
    "\n",
    "x = sp.var(\"x\")\n",
    "\n",
    "def f(x):\n",
    "    return 1260 + 117*x - 9*x**2\n",
    "# Graficamos\n",
    "\n",
    "# Crear figura\n",
    "plt.figure()\n",
    "\n",
    "# Crear rango\n",
    "xn = np.linspace(start=-50,\n",
    "                stop=80,\n",
    "                num=10000)\n",
    "yn = f(xn)\n",
    "\n",
    "plt.plot(xn,yn)\n",
    "\n",
    "pc = 117/18\n",
    "plt.plot( pc, f(pc), \"*r\", ms=10)"
   ]
  },
  {
   "cell_type": "code",
   "execution_count": 8,
   "metadata": {},
   "outputs": [
    {
     "data": {
      "text/latex": [
       "$\\displaystyle - 9 x^{2} + 117 x + 1260$"
      ],
      "text/plain": [
       "-9*x**2 + 117*x + 1260"
      ]
     },
     "execution_count": 8,
     "metadata": {},
     "output_type": "execute_result"
    }
   ],
   "source": [
    "fs = f(x)\n",
    "fs"
   ]
  },
  {
   "cell_type": "code",
   "execution_count": 11,
   "metadata": {},
   "outputs": [
    {
     "data": {
      "text/latex": [
       "$\\displaystyle 117 - 18 x$"
      ],
      "text/plain": [
       "117 - 18*x"
      ]
     },
     "execution_count": 11,
     "metadata": {},
     "output_type": "execute_result"
    }
   ],
   "source": [
    "dfs = sp.diff(fs, x)\n",
    "dfs"
   ]
  },
  {
   "cell_type": "code",
   "execution_count": 12,
   "metadata": {},
   "outputs": [
    {
     "data": {
      "text/latex": [
       "$\\displaystyle \\frac{13}{2}$"
      ],
      "text/plain": [
       "13/2"
      ]
     },
     "execution_count": 12,
     "metadata": {},
     "output_type": "execute_result"
    }
   ],
   "source": [
    "pc = sp.solve(dfs, x)[0]\n",
    "pc"
   ]
  },
  {
   "cell_type": "code",
   "execution_count": 15,
   "metadata": {},
   "outputs": [
    {
     "data": {
      "text/latex": [
       "$\\displaystyle -18$"
      ],
      "text/plain": [
       "-18"
      ]
     },
     "execution_count": 15,
     "metadata": {},
     "output_type": "execute_result"
    }
   ],
   "source": [
    "ddfs = sp.diff(dfs, x)\n",
    "ddfs"
   ]
  },
  {
   "cell_type": "code",
   "execution_count": 19,
   "metadata": {},
   "outputs": [
    {
     "name": "stdout",
     "output_type": "stream",
     "text": [
      "max\n"
     ]
    }
   ],
   "source": [
    "criterio_segunda_derivada = ddfs.subs(x, pc)\n",
    "if criterio_segunda_derivada < 0 :\n",
    "    print(\"max\")\n",
    "elif criterio_segunda_derivada > 0 :\n",
    "    print(\"min\")\n",
    "else :\n",
    "    print (\"sepa\")"
   ]
  },
  {
   "cell_type": "markdown",
   "metadata": {},
   "source": [
    "- Máximo global"
   ]
  },
  {
   "cell_type": "markdown",
   "metadata": {},
   "source": [
    "$f(x)=5+x+\\frac{4}{x}$, para $x>0$"
   ]
  },
  {
   "cell_type": "code",
   "execution_count": 63,
   "metadata": {},
   "outputs": [
    {
     "name": "stdout",
     "output_type": "stream",
     "text": [
      "min\n"
     ]
    },
    {
     "data": {
      "text/plain": [
       "[<matplotlib.lines.Line2D at 0x2b88ec4e220>]"
      ]
     },
     "execution_count": 63,
     "metadata": {},
     "output_type": "execute_result"
    },
    {
     "data": {
      "image/png": "[encoded data removed]",
      "text/plain": [
       "<Figure size 432x288 with 1 Axes>"
      ]
     },
     "metadata": {
      "needs_background": "light"
     },
     "output_type": "display_data"
    }
   ],
   "source": [
    "def f(x):\n",
    "    return 5 + x + 4/x\n",
    "fs = f(x)\n",
    "dfs = sp.diff(fs, x)\n",
    "\n",
    "pc = sp.solve(dfs, x)\n",
    "\n",
    "for valor in pc :\n",
    "    if valor > 0:\n",
    "        punto_critico = valor\n",
    "\n",
    "ddfs = sp.diff(dfs, x)\n",
    "ddfs\n",
    "\n",
    "criterio_segunda_derivada = ddfs.subs(x, punto_critico)\n",
    "if criterio_segunda_derivada < 0 :\n",
    "    print(\"max\")\n",
    "elif criterio_segunda_derivada > 0 :\n",
    "    print(\"min\")\n",
    "else :\n",
    "    print (\"N/D\")\n",
    "    \n",
    "#imprimir\n",
    "plt.figure()\n",
    "xn = np.linspace(0.1, 20, 1000)\n",
    "yn = f(xn)\n",
    "plt.plot(xn, yn)\n",
    "\n",
    "plt.plot(punto_critico, f(punto_critico), \"*r\", ms=10)"
   ]
  },
  {
   "cell_type": "markdown",
   "metadata": {},
   "source": [
    "- Mínimo global"
   ]
  },
  {
   "cell_type": "markdown",
   "metadata": {},
   "source": [
    "$f(x)=6-2x+\\sqrt{18-2x^2}$, para $-3\\leq x\\leq 3$"
   ]
  },
  {
   "cell_type": "code",
   "execution_count": 1,
   "metadata": {},
   "outputs": [
    {
     "name": "stdout",
     "output_type": "stream",
     "text": [
      "max\n"
     ]
    },
    {
     "ename": "SympifyError",
     "evalue": "SympifyError: array([ 1.18      ,  1.85273135,  2.5117335 ,  3.15700643,  3.78855015,\n        4.40636466,  5.01044995,  5.60080604,  6.17743292,  6.74033058,\n        7.28949903,  7.82493827,  8.3466483 ,  8.85462912,  9.34888073,\n        9.82940312, 10.29619631, 10.74926028, 11.18859504, 11.61420059,\n       12.02607693, 12.42422406, 12.80864198, 13.17933068, 13.53629017,\n       13.87952046, 14.20902153, 14.52479339, 14.82683604, 15.11514947,\n       15.3897337 , 15.65058872, 15.89771452, 16.13111111, 16.35077849,\n       16.55671666, 16.74892562, 16.92740537, 17.0921559 , 17.24317723,\n       17.38046934, 17.50403224, 17.61386593, 17.70997041, 17.79234568,\n       17.86099174, 17.91590858, 17.95709621, 17.98455464, 17.99828385,\n       17.99828385, 17.98455464, 17.95709621, 17.91590858, 17.86099174,\n       17.79234568, 17.70997041, 17.61386593, 17.50403224, 17.38046934,\n       17.24317723, 17.0921559 , 16.92740537, 16.74892562, 16.55671666,\n       16.35077849, 16.13111111, 15.89771452, 15.65058872, 15.3897337 ,\n       15.11514947, 14.82683604, 14.52479339, 14.20902153, 13.87952046,\n       13.53629017, 13.17933068, 12.80864198, 12.42422406, 12.02607693,\n       11.61420059, 11.18859504, 10.74926028, 10.29619631,  9.82940312,\n        9.34888073,  8.85462912,  8.3466483 ,  7.82493827,  7.28949903,\n        6.74033058,  6.17743292,  5.60080604,  5.01044995,  4.40636466,\n        3.78855015,  3.15700643,  2.5117335 ,  1.85273135,  1.18      ])",
     "output_type": "error",
     "traceback": [
      "\u001b[1;31m---------------------------------------------------------------------------\u001b[0m",
      "\u001b[1;31mTypeError\u001b[0m                                 Traceback (most recent call last)",
      "\u001b[1;32m~\\anaconda3\\lib\\site-packages\\sympy\\core\\cache.py\u001b[0m in \u001b[0;36mwrapper\u001b[1;34m(*args, **kwargs)\u001b[0m\n\u001b[0;32m     71\u001b[0m             \u001b[1;32mtry\u001b[0m\u001b[1;33m:\u001b[0m\u001b[1;33m\u001b[0m\u001b[1;33m\u001b[0m\u001b[0m\n\u001b[1;32m---> 72\u001b[1;33m                 \u001b[0mretval\u001b[0m \u001b[1;33m=\u001b[0m \u001b[0mcfunc\u001b[0m\u001b[1;33m(\u001b[0m\u001b[1;33m*\u001b[0m\u001b[0margs\u001b[0m\u001b[1;33m,\u001b[0m \u001b[1;33m**\u001b[0m\u001b[0mkwargs\u001b[0m\u001b[1;33m)\u001b[0m\u001b[1;33m\u001b[0m\u001b[1;33m\u001b[0m\u001b[0m\n\u001b[0m\u001b[0;32m     73\u001b[0m             \u001b[1;32mexcept\u001b[0m \u001b[0mTypeError\u001b[0m \u001b[1;32mas\u001b[0m \u001b[0me\u001b[0m\u001b[1;33m:\u001b[0m\u001b[1;33m\u001b[0m\u001b[1;33m\u001b[0m\u001b[0m\n",
      "\u001b[1;31mTypeError\u001b[0m: unhashable type: 'numpy.ndarray'",
      "\nDuring handling of the above exception, another exception occurred:\n",
      "\u001b[1;31mSympifyError\u001b[0m                              Traceback (most recent call last)",
      "\u001b[1;32m~\\AppData\\Local\\Temp/ipykernel_11008/3821009276.py\u001b[0m in \u001b[0;36m<module>\u001b[1;34m\u001b[0m\n\u001b[0;32m     30\u001b[0m \u001b[0mplt\u001b[0m\u001b[1;33m.\u001b[0m\u001b[0mfigure\u001b[0m\u001b[1;33m(\u001b[0m\u001b[1;33m)\u001b[0m\u001b[1;33m\u001b[0m\u001b[1;33m\u001b[0m\u001b[0m\n\u001b[0;32m     31\u001b[0m \u001b[0mxn\u001b[0m \u001b[1;33m=\u001b[0m \u001b[0mnp\u001b[0m\u001b[1;33m.\u001b[0m\u001b[0mlinspace\u001b[0m\u001b[1;33m(\u001b[0m\u001b[1;33m-\u001b[0m\u001b[1;36m2.9\u001b[0m\u001b[1;33m,\u001b[0m \u001b[1;36m2.9\u001b[0m\u001b[1;33m,\u001b[0m \u001b[1;36m100\u001b[0m\u001b[1;33m)\u001b[0m\u001b[1;33m\u001b[0m\u001b[1;33m\u001b[0m\u001b[0m\n\u001b[1;32m---> 32\u001b[1;33m \u001b[0myn\u001b[0m \u001b[1;33m=\u001b[0m \u001b[0mf\u001b[0m\u001b[1;33m(\u001b[0m\u001b[0mxn\u001b[0m\u001b[1;33m)\u001b[0m\u001b[1;33m\u001b[0m\u001b[1;33m\u001b[0m\u001b[0m\n\u001b[0m\u001b[0;32m     33\u001b[0m \u001b[0mplt\u001b[0m\u001b[1;33m.\u001b[0m\u001b[0mplot\u001b[0m\u001b[1;33m(\u001b[0m\u001b[0mxn\u001b[0m\u001b[1;33m,\u001b[0m \u001b[0myn\u001b[0m\u001b[1;33m)\u001b[0m\u001b[1;33m\u001b[0m\u001b[1;33m\u001b[0m\u001b[0m\n\u001b[0;32m     34\u001b[0m \u001b[1;33m\u001b[0m\u001b[0m\n",
      "\u001b[1;32m~\\AppData\\Local\\Temp/ipykernel_11008/3821009276.py\u001b[0m in \u001b[0;36mf\u001b[1;34m(x)\u001b[0m\n\u001b[0;32m      8\u001b[0m \u001b[1;33m\u001b[0m\u001b[0m\n\u001b[0;32m      9\u001b[0m \u001b[1;32mdef\u001b[0m \u001b[0mf\u001b[0m\u001b[1;33m(\u001b[0m\u001b[0mx\u001b[0m\u001b[1;33m)\u001b[0m\u001b[1;33m:\u001b[0m\u001b[1;33m\u001b[0m\u001b[1;33m\u001b[0m\u001b[0m\n\u001b[1;32m---> 10\u001b[1;33m     \u001b[1;32mreturn\u001b[0m \u001b[1;36m6\u001b[0m \u001b[1;33m-\u001b[0m \u001b[1;36m2\u001b[0m\u001b[1;33m*\u001b[0m\u001b[0mx\u001b[0m \u001b[1;33m+\u001b[0m \u001b[0msp\u001b[0m\u001b[1;33m.\u001b[0m\u001b[0msqrt\u001b[0m\u001b[1;33m(\u001b[0m\u001b[1;36m18\u001b[0m \u001b[1;33m-\u001b[0m \u001b[1;36m2\u001b[0m\u001b[1;33m*\u001b[0m\u001b[0mx\u001b[0m\u001b[1;33m**\u001b[0m\u001b[1;36m2\u001b[0m\u001b[1;33m)\u001b[0m\u001b[1;33m\u001b[0m\u001b[1;33m\u001b[0m\u001b[0m\n\u001b[0m\u001b[0;32m     11\u001b[0m \u001b[0mfn\u001b[0m \u001b[1;33m=\u001b[0m \u001b[0msp\u001b[0m\u001b[1;33m.\u001b[0m\u001b[0mlambdify\u001b[0m\u001b[1;33m(\u001b[0m\u001b[0mx\u001b[0m\u001b[1;33m,\u001b[0m \u001b[0mf\u001b[0m\u001b[1;33m(\u001b[0m\u001b[0mx\u001b[0m\u001b[1;33m)\u001b[0m\u001b[1;33m,\u001b[0m \u001b[1;34m\"numpy\"\u001b[0m\u001b[1;33m)\u001b[0m\u001b[1;33m\u001b[0m\u001b[1;33m\u001b[0m\u001b[0m\n\u001b[0;32m     12\u001b[0m \u001b[1;33m\u001b[0m\u001b[0m\n",
      "\u001b[1;32m~\\anaconda3\\lib\\site-packages\\sympy\\functions\\elementary\\miscellaneous.py\u001b[0m in \u001b[0;36msqrt\u001b[1;34m(arg, evaluate)\u001b[0m\n\u001b[0;32m    150\u001b[0m     \"\"\"\n\u001b[0;32m    151\u001b[0m     \u001b[1;31m# arg = sympify(arg) is handled by Pow\u001b[0m\u001b[1;33m\u001b[0m\u001b[1;33m\u001b[0m\u001b[0m\n\u001b[1;32m--> 152\u001b[1;33m     \u001b[1;32mreturn\u001b[0m \u001b[0mPow\u001b[0m\u001b[1;33m(\u001b[0m\u001b[0marg\u001b[0m\u001b[1;33m,\u001b[0m \u001b[0mS\u001b[0m\u001b[1;33m.\u001b[0m\u001b[0mHalf\u001b[0m\u001b[1;33m,\u001b[0m \u001b[0mevaluate\u001b[0m\u001b[1;33m=\u001b[0m\u001b[0mevaluate\u001b[0m\u001b[1;33m)\u001b[0m\u001b[1;33m\u001b[0m\u001b[1;33m\u001b[0m\u001b[0m\n\u001b[0m\u001b[0;32m    153\u001b[0m \u001b[1;33m\u001b[0m\u001b[0m\n\u001b[0;32m    154\u001b[0m \u001b[1;33m\u001b[0m\u001b[0m\n",
      "\u001b[1;32m~\\anaconda3\\lib\\site-packages\\sympy\\core\\cache.py\u001b[0m in \u001b[0;36mwrapper\u001b[1;34m(*args, **kwargs)\u001b[0m\n\u001b[0;32m     74\u001b[0m                 \u001b[1;32mif\u001b[0m \u001b[1;32mnot\u001b[0m \u001b[0me\u001b[0m\u001b[1;33m.\u001b[0m\u001b[0margs\u001b[0m \u001b[1;32mor\u001b[0m \u001b[1;32mnot\u001b[0m \u001b[0me\u001b[0m\u001b[1;33m.\u001b[0m\u001b[0margs\u001b[0m\u001b[1;33m[\u001b[0m\u001b[1;36m0\u001b[0m\u001b[1;33m]\u001b[0m\u001b[1;33m.\u001b[0m\u001b[0mstartswith\u001b[0m\u001b[1;33m(\u001b[0m\u001b[1;34m'unhashable type:'\u001b[0m\u001b[1;33m)\u001b[0m\u001b[1;33m:\u001b[0m\u001b[1;33m\u001b[0m\u001b[1;33m\u001b[0m\u001b[0m\n\u001b[0;32m     75\u001b[0m                     \u001b[1;32mraise\u001b[0m\u001b[1;33m\u001b[0m\u001b[1;33m\u001b[0m\u001b[0m\n\u001b[1;32m---> 76\u001b[1;33m                 \u001b[0mretval\u001b[0m \u001b[1;33m=\u001b[0m \u001b[0mfunc\u001b[0m\u001b[1;33m(\u001b[0m\u001b[1;33m*\u001b[0m\u001b[0margs\u001b[0m\u001b[1;33m,\u001b[0m \u001b[1;33m**\u001b[0m\u001b[0mkwargs\u001b[0m\u001b[1;33m)\u001b[0m\u001b[1;33m\u001b[0m\u001b[1;33m\u001b[0m\u001b[0m\n\u001b[0m\u001b[0;32m     77\u001b[0m             \u001b[1;32mreturn\u001b[0m \u001b[0mretval\u001b[0m\u001b[1;33m\u001b[0m\u001b[1;33m\u001b[0m\u001b[0m\n\u001b[0;32m     78\u001b[0m \u001b[1;33m\u001b[0m\u001b[0m\n",
      "\u001b[1;32m~\\anaconda3\\lib\\site-packages\\sympy\\core\\power.py\u001b[0m in \u001b[0;36m__new__\u001b[1;34m(cls, b, e, evaluate)\u001b[0m\n\u001b[0;32m    275\u001b[0m         \u001b[1;32mfrom\u001b[0m \u001b[0msympy\u001b[0m\u001b[1;33m.\u001b[0m\u001b[0mfunctions\u001b[0m\u001b[1;33m.\u001b[0m\u001b[0melementary\u001b[0m\u001b[1;33m.\u001b[0m\u001b[0mexponential\u001b[0m \u001b[1;32mimport\u001b[0m \u001b[0mexp_polar\u001b[0m\u001b[1;33m\u001b[0m\u001b[1;33m\u001b[0m\u001b[0m\n\u001b[0;32m    276\u001b[0m \u001b[1;33m\u001b[0m\u001b[0m\n\u001b[1;32m--> 277\u001b[1;33m         \u001b[0mb\u001b[0m \u001b[1;33m=\u001b[0m \u001b[0m_sympify\u001b[0m\u001b[1;33m(\u001b[0m\u001b[0mb\u001b[0m\u001b[1;33m)\u001b[0m\u001b[1;33m\u001b[0m\u001b[1;33m\u001b[0m\u001b[0m\n\u001b[0m\u001b[0;32m    278\u001b[0m         \u001b[0me\u001b[0m \u001b[1;33m=\u001b[0m \u001b[0m_sympify\u001b[0m\u001b[1;33m(\u001b[0m\u001b[0me\u001b[0m\u001b[1;33m)\u001b[0m\u001b[1;33m\u001b[0m\u001b[1;33m\u001b[0m\u001b[0m\n\u001b[0;32m    279\u001b[0m \u001b[1;33m\u001b[0m\u001b[0m\n",
      "\u001b[1;32m~\\anaconda3\\lib\\site-packages\\sympy\\core\\sympify.py\u001b[0m in \u001b[0;36m_sympify\u001b[1;34m(a)\u001b[0m\n\u001b[0;32m    503\u001b[0m \u001b[1;33m\u001b[0m\u001b[0m\n\u001b[0;32m    504\u001b[0m     \"\"\"\n\u001b[1;32m--> 505\u001b[1;33m     \u001b[1;32mreturn\u001b[0m \u001b[0msympify\u001b[0m\u001b[1;33m(\u001b[0m\u001b[0ma\u001b[0m\u001b[1;33m,\u001b[0m \u001b[0mstrict\u001b[0m\u001b[1;33m=\u001b[0m\u001b[1;32mTrue\u001b[0m\u001b[1;33m)\u001b[0m\u001b[1;33m\u001b[0m\u001b[1;33m\u001b[0m\u001b[0m\n\u001b[0m\u001b[0;32m    506\u001b[0m \u001b[1;33m\u001b[0m\u001b[0m\n\u001b[0;32m    507\u001b[0m \u001b[1;33m\u001b[0m\u001b[0m\n",
      "\u001b[1;32m~\\anaconda3\\lib\\site-packages\\sympy\\core\\sympify.py\u001b[0m in \u001b[0;36msympify\u001b[1;34m(a, locals, convert_xor, strict, rational, evaluate)\u001b[0m\n\u001b[0;32m    431\u001b[0m \u001b[1;33m\u001b[0m\u001b[0m\n\u001b[0;32m    432\u001b[0m     \u001b[1;32mif\u001b[0m \u001b[0mstrict\u001b[0m\u001b[1;33m:\u001b[0m\u001b[1;33m\u001b[0m\u001b[1;33m\u001b[0m\u001b[0m\n\u001b[1;32m--> 433\u001b[1;33m         \u001b[1;32mraise\u001b[0m \u001b[0mSympifyError\u001b[0m\u001b[1;33m(\u001b[0m\u001b[0ma\u001b[0m\u001b[1;33m)\u001b[0m\u001b[1;33m\u001b[0m\u001b[1;33m\u001b[0m\u001b[0m\n\u001b[0m\u001b[0;32m    434\u001b[0m \u001b[1;33m\u001b[0m\u001b[0m\n\u001b[0;32m    435\u001b[0m     \u001b[1;32mif\u001b[0m \u001b[0miterable\u001b[0m\u001b[1;33m(\u001b[0m\u001b[0ma\u001b[0m\u001b[1;33m)\u001b[0m\u001b[1;33m:\u001b[0m\u001b[1;33m\u001b[0m\u001b[1;33m\u001b[0m\u001b[0m\n",
      "\u001b[1;31mSympifyError\u001b[0m: SympifyError: array([ 1.18      ,  1.85273135,  2.5117335 ,  3.15700643,  3.78855015,\n        4.40636466,  5.01044995,  5.60080604,  6.17743292,  6.74033058,\n        7.28949903,  7.82493827,  8.3466483 ,  8.85462912,  9.34888073,\n        9.82940312, 10.29619631, 10.74926028, 11.18859504, 11.61420059,\n       12.02607693, 12.42422406, 12.80864198, 13.17933068, 13.53629017,\n       13.87952046, 14.20902153, 14.52479339, 14.82683604, 15.11514947,\n       15.3897337 , 15.65058872, 15.89771452, 16.13111111, 16.35077849,\n       16.55671666, 16.74892562, 16.92740537, 17.0921559 , 17.24317723,\n       17.38046934, 17.50403224, 17.61386593, 17.70997041, 17.79234568,\n       17.86099174, 17.91590858, 17.95709621, 17.98455464, 17.99828385,\n       17.99828385, 17.98455464, 17.95709621, 17.91590858, 17.86099174,\n       17.79234568, 17.70997041, 17.61386593, 17.50403224, 17.38046934,\n       17.24317723, 17.0921559 , 16.92740537, 16.74892562, 16.55671666,\n       16.35077849, 16.13111111, 15.89771452, 15.65058872, 15.3897337 ,\n       15.11514947, 14.82683604, 14.52479339, 14.20902153, 13.87952046,\n       13.53629017, 13.17933068, 12.80864198, 12.42422406, 12.02607693,\n       11.61420059, 11.18859504, 10.74926028, 10.29619631,  9.82940312,\n        9.34888073,  8.85462912,  8.3466483 ,  7.82493827,  7.28949903,\n        6.74033058,  6.17743292,  5.60080604,  5.01044995,  4.40636466,\n        3.78855015,  3.15700643,  2.5117335 ,  1.85273135,  1.18      ])"
     ]
    },
    {
     "data": {
      "text/plain": [
       "<Figure size 432x288 with 0 Axes>"
      ]
     },
     "metadata": {},
     "output_type": "display_data"
    }
   ],
   "source": [
    "import numpy as np\n",
    "import sympy as sp\n",
    "import matplotlib.pyplot as plt\n",
    "\n",
    "%matplotlib inline\n",
    "\n",
    "x = sp.var(\"x\")\n",
    "\n",
    "def f(x):\n",
    "    return 6 - 2*x + sp.sqrt(18 - 2*x**2)\n",
    "fn = sp.lambdify(x, f(x), \"numpy\")\n",
    "\n",
    "fs = f(x)\n",
    "dfs = sp.diff(fs, x)\n",
    "\n",
    "pc = sp.solve(dfs, x)[0]\n",
    "ptc = float(pc)\n",
    "\n",
    "ddfs = sp.diff(dfs, x)\n",
    "\n",
    "criterio_segunda_derivada = ddfs.subs(x, ptc)\n",
    "if criterio_segunda_derivada < 0 :\n",
    "    print(\"max\")\n",
    "elif criterio_segunda_derivada > 0 :\n",
    "    print(\"min\")\n",
    "else :\n",
    "    print (\"N/D\")\n",
    "\n",
    "#imprimir\n",
    "plt.figure()\n",
    "xn = np.linspace(-2.9, 2.9, 100)\n",
    "yn = f(xn)\n",
    "plt.plot(xn, yn)\n",
    "\n",
    "plt.plot(ptc, f(ptc), \"*r\", ms=10)"
   ]
  },
  {
   "cell_type": "markdown",
   "metadata": {},
   "source": [
    "$f(x)=\\frac{1}{4}x^4+\\frac{1}{3}x^3-x^2$ en el intervalo $[-3,1.7]$"
   ]
  },
  {
   "cell_type": "code",
   "execution_count": 86,
   "metadata": {
    "scrolled": true
   },
   "outputs": [
    {
     "name": "stdout",
     "output_type": "stream",
     "text": [
      "min\n",
      "max\n",
      "min\n"
     ]
    },
    {
     "data": {
      "image/png": "[encoded data removed]",
      "text/plain": [
       "<Figure size 432x288 with 1 Axes>"
      ]
     },
     "metadata": {
      "needs_background": "light"
     },
     "output_type": "display_data"
    }
   ],
   "source": [
    "def f(x):\n",
    "    return (1/4)*x**4 + (1/3)*x**3 - x**2\n",
    "\n",
    "fs = f(x)\n",
    "dfs = sp.diff(fs, x)\n",
    "\n",
    "pc = sp.solve(dfs, x)\n",
    "\n",
    "ddfs = sp.diff(dfs, x)\n",
    "\n",
    "for punto in pc:\n",
    "    criterio_segunda_derivada = ddfs.subs(x, punto)\n",
    "    if criterio_segunda_derivada < 0 :\n",
    "        print(\"max\")\n",
    "    elif criterio_segunda_derivada > 0 :\n",
    "        print(\"min\")\n",
    "    else :\n",
    "        print (\"N/D\")\n",
    "\n",
    "#imprimir\n",
    "plt.figure()\n",
    "xn = np.linspace(-2.9, 1.7, 100)\n",
    "yn = f(xn)\n",
    "plt.plot(xn, yn)\n",
    "\n",
    "for punto in pc:\n",
    "    plt.plot(punto, f(punto), \"*r\", ms=10)"
   ]
  },
  {
   "cell_type": "markdown",
   "metadata": {},
   "source": [
    "- Mínimo global\n",
    "- Máximo local\n",
    "- Mínimo local"
   ]
  },
  {
   "cell_type": "markdown",
   "metadata": {},
   "source": [
    "---\n",
    "**Resuelva los siguientes problemas usando la librería `SymPy`. Use celdas en `Markdown` para explicar su procedimiento.**"
   ]
  },
  {
   "cell_type": "markdown",
   "metadata": {},
   "source": [
    "El perímetro de un triángulo isósceles es de $10 cm$. ¿Cuánto deben medir sus lados para que el volumen del cuerpo generado por la rotación del triángulo en torno a su base sea el mayor posible? (Volumen de un cono $= \\frac{1}{3}\\pi r^2 h$, donde $r$ es el radio de la base y $h$ la altura del cono)."
   ]
  },
  {
   "cell_type": "code",
   "execution_count": 2,
   "metadata": {},
   "outputs": [
    {
     "data": {
      "text/latex": [
       "$\\displaystyle \\frac{\\pi b^{2} \\sqrt{- \\frac{b^{2}}{4} + l^{2}}}{12}$"
      ],
      "text/plain": [
       "pi*b**2*sqrt(-b**2/4 + l**2)/12"
      ]
     },
     "execution_count": 2,
     "metadata": {},
     "output_type": "execute_result"
    }
   ],
   "source": [
    "import sympy as sp\n",
    "\n",
    "l = sp.var(\"l\")\n",
    "b = sp.var(\"b\")\n",
    "\n",
    "def r(b):\n",
    "    return b/2\n",
    "\n",
    "def h(b, l):\n",
    "    radio = r(b)\n",
    "    return sp.sqrt(l**2 - radio**2)\n",
    "\n",
    "def volumen(b, l):\n",
    "    r2 = r(b)**2\n",
    "    altura = h(b, l)\n",
    "    return sp.pi*r2*altura/3\n",
    "\n",
    "volumen(b, l)"
   ]
  },
  {
   "cell_type": "code",
   "execution_count": 3,
   "metadata": {
    "scrolled": true
   },
   "outputs": [
    {
     "data": {
      "text/latex": [
       "$\\displaystyle \\frac{\\pi \\left(10 - 2 l\\right)^{2} \\sqrt{l^{2} - \\frac{\\left(10 - 2 l\\right)^{2}}{4}}}{12}$"
      ],
      "text/plain": [
       "pi*(10 - 2*l)**2*sqrt(l**2 - (10 - 2*l)**2/4)/12"
      ]
     },
     "execution_count": 3,
     "metadata": {},
     "output_type": "execute_result"
    }
   ],
   "source": [
    "volumen_subs = volumen(b, l).subs(b, 10 - 2*l)\n",
    "volumen_subs"
   ]
  },
  {
   "cell_type": "code",
   "execution_count": 5,
   "metadata": {},
   "outputs": [
    {
     "data": {
      "text/latex": [
       "$\\displaystyle \\frac{5 \\pi \\left(10 - 2 l\\right)^{2}}{12 \\sqrt{l^{2} - \\frac{\\left(10 - 2 l\\right)^{2}}{4}}} + \\frac{\\pi \\left(8 l - 40\\right) \\sqrt{l^{2} - \\frac{\\left(10 - 2 l\\right)^{2}}{4}}}{12}$"
      ],
      "text/plain": [
       "5*pi*(10 - 2*l)**2/(12*sqrt(l**2 - (10 - 2*l)**2/4)) + pi*(8*l - 40)*sqrt(l**2 - (10 - 2*l)**2/4)/12"
      ]
     },
     "execution_count": 5,
     "metadata": {},
     "output_type": "execute_result"
    }
   ],
   "source": [
    "dvolumen = sp.diff(volumen_subs, l)\n",
    "dvolumen"
   ]
  },
  {
   "cell_type": "code",
   "execution_count": 6,
   "metadata": {},
   "outputs": [
    {
     "data": {
      "text/plain": [
       "[3, 5]"
      ]
     },
     "execution_count": 6,
     "metadata": {},
     "output_type": "execute_result"
    }
   ],
   "source": [
    "pc = sp.solve(dvolumen, l)\n",
    "pc"
   ]
  },
  {
   "cell_type": "code",
   "execution_count": 9,
   "metadata": {},
   "outputs": [
    {
     "name": "stderr",
     "output_type": "stream",
     "text": [
      "<lambdifygenerated-2>:2: RuntimeWarning: invalid value encountered in sqrt\n",
      "  return (1/12)*pi*(10 - 2*l)**2*sqrt(l**2 - 1/4*(10 - 2*l)**2)\n"
     ]
    },
    {
     "data": {
      "text/plain": [
       "[<matplotlib.lines.Line2D at 0x263ee373e80>]"
      ]
     },
     "execution_count": 9,
     "metadata": {},
     "output_type": "execute_result"
    },
    {
     "data": {
      "image/png": "[encoded data removed]",
      "text/plain": [
       "<Figure size 432x288 with 1 Axes>"
      ]
     },
     "metadata": {
      "needs_background": "light"
     },
     "output_type": "display_data"
    }
   ],
   "source": [
    "import matplotlib.pyplot as plt\n",
    "import numpy as np\n",
    "%matplotlib inline\n",
    "\n",
    "ln = np.linspace(0, 5, 100)\n",
    "volumen_n = sp.lambdify(l, volumen_subs, \"numpy\")\n",
    "voln = volumen_n(ln)\n",
    "plt.figure()\n",
    "plt.plot(ln, voln)\n",
    "plt.plot(3, volumen_n(3), \"*r\", ms=10)"
   ]
  },
  {
   "cell_type": "markdown",
   "metadata": {},
   "source": [
    "Disponemos de una barra de aluminio de 6 metros para construir una portería de fútbol. Si queremos que el área de la portería sea máxima, ¿cuánto deben medir los postes y el travesaño?"
   ]
  },
  {
   "cell_type": "code",
   "execution_count": 27,
   "metadata": {},
   "outputs": [],
   "source": [
    "import sympy as sp\n",
    "\n",
    "#definimos las variables a utilizar\n",
    "x = sp.var(\"x\") #poste\n",
    "y = sp.var(\"y\") #travesaño"
   ]
  },
  {
   "cell_type": "markdown",
   "metadata": {},
   "source": [
    "Buscamos la función a optimizar\n",
    "area = x*y\n",
    "\n",
    "Buscamos una relación entre las variables para colocarlas en la misma ecuación.\n",
    "x + x + y = 6\n",
    "2*x + y = 6 #simplificamos.\n",
    "y = 6 - 2*x #tenemos el valor de y en función de x para tener solo una variable en la ecuación."
   ]
  },
  {
   "cell_type": "code",
   "execution_count": 28,
   "metadata": {},
   "outputs": [
    {
     "data": {
      "text/latex": [
       "$\\displaystyle \\frac{3}{2}$"
      ],
      "text/plain": [
       "3/2"
      ]
     },
     "execution_count": 28,
     "metadata": {},
     "output_type": "execute_result"
    }
   ],
   "source": [
    "#sustituimos en la ecuación a optimizar (area)\n",
    "area = x*(6 - 2*x)\n",
    "area = 6*x - 2*x**2 #función a utilizar\n",
    "\n",
    "def f(x):\n",
    "    return 6*x - 2*x**2 \n",
    "\n",
    "fs = f(x)\n",
    "dfs = sp.diff(fs, x) #primera derivada\n",
    "x = sp.solve(dfs, x)[0] #calculamos el valor de x o valor crítico para cumplir la función\n",
    "x"
   ]
  },
  {
   "cell_type": "code",
   "execution_count": 18,
   "metadata": {
    "scrolled": true
   },
   "outputs": [
    {
     "data": {
      "text/latex": [
       "$\\displaystyle 3$"
      ],
      "text/plain": [
       "3"
      ]
     },
     "execution_count": 18,
     "metadata": {},
     "output_type": "execute_result"
    }
   ],
   "source": [
    "y = 6 - 2*x #obtener el valor de y en función del valor obtenido de x.\n",
    "y"
   ]
  },
  {
   "cell_type": "markdown",
   "metadata": {},
   "source": [
    "Para que se logre obtener el área máxima de la portería contando con 6m de una barra de aluminio, los postes deben medir 1.5m y el travesaño debe medir 3m."
   ]
  }
 ],
 "metadata": {
  "kernelspec": {
   "display_name": "Python 3 (ipykernel)",
   "language": "python",
   "name": "python3"
  },
  "language_info": {
   "codemirror_mode": {
    "name": "ipython",
    "version": 3
   },
   "file_extension": ".py",
   "mimetype": "text/x-python",
   "name": "python",
   "nbconvert_exporter": "python",
   "pygments_lexer": "ipython3",
   "version": "3.9.7"
  }
 },
 "nbformat": 4,
 "nbformat_minor": 2
}
