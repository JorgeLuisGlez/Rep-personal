{
 "cells": [
  {
   "cell_type": "markdown",
   "id": "459f1e36",
   "metadata": {},
   "source": [
    "##Presentación personal\n",
    "Mi nombre es Daniel Gutiérrez, he tenido varios apodos a lo largo de mi educación pero actualmente me dicen *Guti*.\n",
    "\n",
    "###Carrera\n",
    "*Ingeniería Civil, 6to semestre*\n",
    "\n",
    "Amo mi carrera, más que nada por la parte práctica que se tiene que hacer ya en la profesionalidad, son tantas las cosas que pueden salir mal o que necesitan de tu criterio que te obligan a desarrollar un pensamiento rápido para la resolución de problemas.\n",
    "\n",
    "**Contexto**\n",
    "Actualmente estoy trabajando en una empresa llamada MAM Geotecnia que se dedica a al estabilización de taludes y cimentaciones, estoy en campo (una obra) en la cual desarrollo principalmente actividades administrativas, las cuales serían:\n",
    "* Checklist de autorización\n",
    "    * Revisión de acero\n",
    "    * Revisión de concreto\n",
    "    * Revisión de elemento terminado\n",
    "* Reporte de avances\n",
    "    * Avance en estabilización con anclaje\n",
    "    * Avance en colado de pilas de estabilización\n",
    "* Actualización de reportes internos\n",
    "    * Reporte de concreto (solicitado y desperdicio)\n",
    "    * Dossier de anclaje (anclas realizadas por fecha y eje)\n",
    "* Estimaciones\n",
    "    * Generadores\n",
    "    * Reporte fotográfico\n",
    "    * Planos referenciales\n",
    "    \n",
    "_Estimaciones_\n",
    "Este tema es muy empleado en las obras, principalmente porque es la forma en que el ejecutor (constructor) demuestra a la supervisión y al cliente el avance que llevan, todo esto para justificar el cobro que se está haciendo.\n",
    "Asimismo, por parte de la supervisión y el cliente es la manera en que ellos pueden llevar un control en relación con el programa de obra y un control en los gastos en relación con el presupuesto total de la obra.\n",
    "Las estimaciones se conforman por:\n",
    "* Números generadores\n",
    "    * Los números generadores son los resultado obtenidos gracias a la cuantifiación de superficies o volumetrías de obra debidamente referenciados por ejes, cotas o tramos.\n",
    "    \n",
    "* Reporte fotográfico\n",
    "    * Es un informe que se genera por medio de imágenes, las cuales demuestran evidencia de los procesos que se ejecutaron en cierto periodo de tiempo, normalmente coinciden los conceptos con los conceptos empleados en los generadores.\n",
    "    \n",
    "* Planos referenciales\n",
    "    * Es un informe que se genera por medio de planos, los cuales muestran dentro de los planos del proyecto los procesos que se ejecutaron en cierto tiempo, normalmente los planos referenciales y el reporte fotográfico son elaborados a la par."
   ]
  }
 ],
 "metadata": {
  "kernelspec": {
   "display_name": "Python 3 (ipykernel)",
   "language": "python",
   "name": "python3"
  },
  "language_info": {
   "codemirror_mode": {
    "name": "ipython",
    "version": 3
   },
   "file_extension": ".py",
   "mimetype": "text/x-python",
   "name": "python",
   "nbconvert_exporter": "python",
   "pygments_lexer": "ipython3",
   "version": "3.9.7"
  }
 },
 "nbformat": 4,
 "nbformat_minor": 5
}
