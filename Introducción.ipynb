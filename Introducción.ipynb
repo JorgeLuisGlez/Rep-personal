{
 "cells": [
  {
   "cell_type": "markdown",
   "id": "459f1e36",
   "metadata": {},
   "source": [
    "Mi nombre es Daniel Gutiérrez, pero todos me dicen Guti; actualmente estoy cursando el 6to semestre de la carrera de Ingeniería Civil.\n",
    "\n",
    "Un tema muy usado en mi carrera es la cuantificación de elementos en una construcción, ya sea volúmenes, áreas, piezas, etc que comúnmente se llaman como generadores y se emplean tanto en presupuestos como en estimaciones."
   ]
  }
 ],
 "metadata": {
  "kernelspec": {
   "display_name": "Python 3 (ipykernel)",
   "language": "python",
   "name": "python3"
  },
  "language_info": {
   "codemirror_mode": {
    "name": "ipython",
    "version": 3
   },
   "file_extension": ".py",
   "mimetype": "text/x-python",
   "name": "python",
   "nbconvert_exporter": "python",
   "pygments_lexer": "ipython3",
   "version": "3.9.7"
  }
 },
 "nbformat": 4,
 "nbformat_minor": 5
}
