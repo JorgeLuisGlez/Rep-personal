{
 "cells": [
  {
   "cell_type": "markdown",
   "metadata": {},
   "source": [
    "# Tarea - Programación lineal"
   ]
  },
  {
   "cell_type": "markdown",
   "metadata": {},
   "source": [
    "### Diseño de la Dieta Óptima\n",
    "\n",
    "Se quiere producir comida para gatos de la manera más barata, no obstante se debe también asegurar que se cumplan los datos requeridos de analisis nutricional. Por lo que se quiere variar la cantidad de cada ingrediente para cumplir con los estandares nutricionales. Los requisitos que se tienen es que en $100$ gramos, se deben tener **por lo menos** $8$ gramos de proteína y $6$ gramos de grasa. Así mismo, no se debe tener más de $2$ gramos de fibra y $0.4$ gramos de sal.  \n",
    "\n",
    "Los datos nutricionales se pueden obtener de la siguiente tabla:\n",
    "\n",
    "Ingrediente|Proteína|Grasa|Fibra|Sal\n",
    ":----|----|----|----|----\n",
    "Pollo|  10.0%|08.0%|00.1%|00.2%\n",
    "Carne|  20.0%|10.0%|00.5%|00.5%\n",
    "Cordero|15.0%|11.0%|00.5%|00.7%\n",
    "Arroz|  00.0%|01.0%|10.0%|00.2%\n",
    "Trigo|  04.0%|01.0%|15.0%|00.8%\n",
    "Gel|    00.0%|00.0%|00.0%|00.0%\n",
    "\n",
    "Los costos de cada producto son:\n",
    "\n",
    "Ingrediente|Costo por gramo\n",
    ":----|----\n",
    "Pollo|$\\$$0.013\n",
    "Carne|$\\$$0.008\n",
    "Cordero|$\\$$0.010\n",
    "Arroz|$\\$$0.002\n",
    "Trigo|$\\$$0.005\n",
    "Gel|$\\$$0.001    \n",
    "\n",
    "Lo que se busca optimizar en este caso es la cantidad de productos que se debe utilizar en la comida de gato, minimizando el costo total. Para simplificar la notación use las siguientes variables: \n",
    "\n",
    "+ $x_1:$ Gramos de pollo  \n",
    "+ $x_2:$ Gramos de carne  \n",
    "+ $x_3:$ Gramos de cordero  \n",
    "+ $x_4:$ Gramos de arroz  \n",
    "+ $x_5:$ Gramos de trigo  \n",
    "+ $x_6:$ Gramos de gel\n",
    "\n",
    "La tarea consiste en plantear el problemade programación lineal que permita satisfacer las necesidades alimenticias del gato al tiempo que minimice el costo total y resolverlo con `linprog`."
   ]
  },
  {
   "cell_type": "markdown",
   "metadata": {},
   "source": [
    "### Solución\n",
    "\n",
    "La función objetivo a realizar esta en base a minizar el costo total de la comida de gato empleando las cantidades que se toman ahí, quedando como:\n",
    "\n",
    "$$ 0.013 x_1 + 0.008 x_2 + 0.010 x_3 + 0.002 x_4 + 0.005 x_5 + 0.001 x_6$$\n",
    "\n",
    "Teniendo como restricciones varias condiciones, las cuales tomando de una en una pude escribir las ecuaciones de restricción:\n",
    "\n",
    "<center>Al menos 8g de proteína<center>\n",
    "    \n",
    "$$0.10 x_1 + 0.2 x_2 + 0.15 x_3 + 0.04 x_5 >= 8$$\n",
    "    \n",
    "<center>Al menos 6g de grasa<center>\n",
    "    \n",
    "$$0.08 x_1 + 0.1 x_2 + 0.11 x_3 + 0.01 x_4 + 0.01 x_5 >= 6$$\n",
    "    \n",
    "<center>No más de 2g de fibra<center>\n",
    "    \n",
    "$$0.001 x_1 + 0.005 x_2 + 0.005 x_3 + 0.1 x_4 + 0.15 x_5 <= 2$$\n",
    "    \n",
    "<center>No más de 0.4g de sal<center>\n",
    "    \n",
    "$$0.002 x_1 + 0.005 x_2 + 0.007 x_3 + 0.002 x_4 + 0.008 x_5 <= 0.4$$"
   ]
  },
  {
   "cell_type": "code",
   "execution_count": 9,
   "metadata": {
    "scrolled": true
   },
   "outputs": [
    {
     "data": {
      "text/plain": [
       "     con: array([], dtype=float64)\n",
       "     fun: 0.4800000000137973\n",
       " message: 'Optimization terminated successfully.'\n",
       "     nit: 10\n",
       "   slack: array([4.00000000e+00, 2.01607619e-11, 1.70000000e+00, 1.00000000e-01])\n",
       "  status: 0\n",
       " success: True\n",
       "       x: array([3.08621399e-10, 6.00000000e+01, 1.64325704e-09, 6.21477261e-09,\n",
       "       1.70919643e-10, 0.00000000e+00])"
      ]
     },
     "execution_count": 9,
     "metadata": {},
     "output_type": "execute_result"
    }
   ],
   "source": [
    "import numpy as np\n",
    "import scipy.optimize as opt\n",
    "\n",
    "# coeficientes función objetivo\n",
    "C = np.array([0.013,\n",
    "             0.008,\n",
    "             0.010,\n",
    "             0.002,\n",
    "             0.005,\n",
    "             0.001])\n",
    "\n",
    "# coeficientes restricciones\n",
    "A = np.array([[-0.10, -0.20, -0.15,     0, -0.04, 0],\n",
    "              [-0.08, -0.10, -0.11, -0.01, -0.01, 0],\n",
    "              [0.001, 0.005, 0.005, 0.010, 0.150, 0],\n",
    "              [0.002, 0.005, 0.007, 0.002, 0.008, 0]])\n",
    "\n",
    "#valores de acotamiento restricción\n",
    "b = np.array([-8,\n",
    "              -6,\n",
    "               2,\n",
    "             0.4])\n",
    "\n",
    "r = opt.linprog(C, A, b)\n",
    "r"
   ]
  },
  {
   "cell_type": "code",
   "execution_count": 12,
   "metadata": {
    "scrolled": true
   },
   "outputs": [
    {
     "data": {
      "text/plain": [
       "     con: array([], dtype=float64)\n",
       "     fun: 0.48\n",
       " message: 'Optimization terminated successfully.'\n",
       "     nit: 4\n",
       "   slack: array([4. , 0. , 1.7, 0.1])\n",
       "  status: 0\n",
       " success: True\n",
       "       x: array([ 0., 60.,  0.,  0.,  0.,  0.])"
      ]
     },
     "execution_count": 12,
     "metadata": {},
     "output_type": "execute_result"
    }
   ],
   "source": [
    "r2 = opt.linprog(C, A,b, method=\"simplex\")\n",
    "r2"
   ]
  },
  {
   "cell_type": "code",
   "execution_count": 13,
   "metadata": {},
   "outputs": [
    {
     "data": {
      "text/plain": [
       "array([ 0., 60.,  0.,  0.,  0.,  0.])"
      ]
     },
     "execution_count": 13,
     "metadata": {},
     "output_type": "execute_result"
    }
   ],
   "source": [
    "r2.x"
   ]
  },
  {
   "cell_type": "markdown",
   "metadata": {},
   "source": [
    "### Problema de distribución de energía eléctrica\n",
    "\n",
    "La Comisión Federal de Electricidad **(CFE)** dispone de cuatro plantas de generación para satisfacer la demanda diaria eléctrica en cuatro ciudades, Guadalajara, León y Morelia. Las plantas $1$, $2$ y $3$ pueden satisfacer $80$, $40$ y $60$ millones de KW al día respectivamente. Las necesidades de las ciudades de Guadalajara, León y Morelia son de $70$, $40$ y $70$ millones de Kw al día respectivamente. \n",
    "\n",
    "\n",
    "Los costos asociados al envío de suministro energético por cada millón de Kw entre cada planta y cada ciudad son los registrados en la siguiente tabla. \n",
    "\n",
    "-|Guadalajara|León|Morelia|\n",
    ":----|----|----|----\n",
    "Planta 1 |5 |2 |7\n",
    "Planta 2 |3 |6 |6\n",
    "Planta 3 |6 |1 |2 \n",
    "\n",
    "Y por último, las restricciones del problema, van a estar dadas por las capacidades de oferta y demanda de cada planta (en millones de KW) y cada ciudad.\n",
    "\n",
    "Para simplificar la notación use las siguientes variables:\n",
    "\n",
    "+ $x_1$: Kw (en millones) distribuidos de la Planta 1 a Guadalajara\n",
    "+ $x_2$: Kw (en millones) distribuidos de la Planta 1 a León\n",
    "+ $x_3$: Kw (en millones) distribuidos de la Planta 1 a Morelia\n",
    "+ $x_4$: Kw (en millones) distribuidos de la Planta 2 a Guadalajara\n",
    "+ $x_5$: Kw (en millones) distribuidos de la Planta 2 a León\n",
    "+ $x_6$: Kw (en millones) distribuidos de la Planta 2 a Morelia\n",
    "+ $x_7$: Kw (en millones) distribuidos de la Planta 3 a Guadalajara\n",
    "+ $x_8$: Kw (en millones) distribuidos de la Planta 3 a León\n",
    "+ $x_9$: Kw (en millones) distribuidos de la Planta 3 a Morelia\n",
    "\n",
    "La tarea consiste en plantear el problema de programación lineal que permita satisfacer las necesidades de todas las ciudades al tiempo que minimice los costos asociados a la distribución y resolverlo con `linprog`."
   ]
  },
  {
   "cell_type": "markdown",
   "metadata": {},
   "source": [
    "### Solución\n",
    "\n",
    "Menciona el costo de envío asociado por cada millón de Kw entre cada planta y cada ciudad, con estos datos obtuve la fucnión objetivo la cual es:\n",
    "\n",
    "$$5 x_1 + 2 x_2 + 7 x_3 + 3 x_4 + 6 x_5 + 6 x_6 + 6 x_7 + 1 x_8 + 2 x_9$$\n",
    "\n",
    "Que nos dice que 5 Kw (en millones) son distribuidos de la Planta 1 a Guadalajara y así de manera consecuente con la nomenclatura mostrada anteriormente.\n",
    "Posterior a la obtención de la función objetivo, tenemos las restricciones mencionadas en el problema con las cuales generé una tabla para verlo de manera más sencilla y visual.\n",
    "\n",
    "-|Guadalajara|León|Morelia|Oferta\n",
    ":----|----|----|----|----\n",
    "Planta 1 |5 |2 |7 | 80 |\n",
    "Planta 2 |3 |6 |6 | 40 |\n",
    "Planta 3 |6 |1 |2 | 60 |\n",
    "Demanda |70|40|70 |\n",
    "\n",
    "A partir de la tabla pude obsevar de mejor manera las restricciones y así formar las ecuaciones de restricción, las cuales son:\n",
    "$$x_1 + x_2 + x_3 <= 80$$\n",
    "$$x_4 + x_5 + x_6 <= 40$$\n",
    "$$x_7 + x_8 + x_9 <= 60$$\n",
    "\n",
    "$$x_1 + x_4 + x_7 >= 70$$\n",
    "$$x_2 + x_5 + x_8 >= 40$$\n",
    "$$x_3 + x_6 + x_9 >= 70$$\n"
   ]
  },
  {
   "cell_type": "code",
   "execution_count": 7,
   "metadata": {},
   "outputs": [
    {
     "name": "stderr",
     "output_type": "stream",
     "text": [
      "C:\\Users\\dangt\\AppData\\Local\\Temp/ipykernel_14392/1061592127.py:31: OptimizeWarning: Solving system with option 'cholesky':True failed. It is normal for this to happen occasionally, especially as the solution is approached. However, if you see this frequently, consider setting option 'cholesky' to False.\n",
      "  r = opt.linprog(C, A, b)\n",
      "C:\\Users\\dangt\\AppData\\Local\\Temp/ipykernel_14392/1061592127.py:31: OptimizeWarning: Solving system with option 'sym_pos':True failed. It is normal for this to happen occasionally, especially as the solution is approached. However, if you see this frequently, consider setting option 'sym_pos' to False.\n",
      "  r = opt.linprog(C, A, b)\n"
     ]
    },
    {
     "data": {
      "text/plain": [
       "     con: array([], dtype=float64)\n",
       "     fun: 539.9999999945517\n",
       " message: 'Optimization terminated successfully.'\n",
       "     nit: 6\n",
       "   slack: array([ 8.83190410e-10,  4.27569091e-10,  6.52448762e-10, -7.69162511e-10,\n",
       "       -4.24861923e-10, -7.69190933e-10])\n",
       "  status: 0\n",
       " success: True\n",
       "       x: array([3.00000000e+01, 4.00000000e+01, 1.00000000e+01, 4.00000000e+01,\n",
       "       4.67449811e-11, 6.07990748e-12, 2.20972261e-11, 2.37736910e-11,\n",
       "       6.00000000e+01])"
      ]
     },
     "execution_count": 7,
     "metadata": {},
     "output_type": "execute_result"
    }
   ],
   "source": [
    "import numpy as np\n",
    "import scipy.optimize as opt\n",
    "\n",
    "# coeficientes de función objetivo\n",
    "C = np.array([5,\n",
    "              2,\n",
    "              7,\n",
    "              3,\n",
    "              6,\n",
    "              6,\n",
    "              6,\n",
    "              1,\n",
    "              2])\n",
    "\n",
    "# coeficientes de restricciones\n",
    "A = np.array([[1, 1, 1, 0, 0, 0, 0, 0, 0],\n",
    "              [0, 0, 0, 1, 1, 1, 0, 0, 0],\n",
    "              [0, 0, 0, 0, 0, 0, 1, 1, 1],\n",
    "              [-1,0, 0,-1, 0, 0,-1, 0, 0],\n",
    "              [0,-1, 0, 0,-1, 0, 0,-1, 0],\n",
    "              [0, 0,-1, 0, 0,-1, 0, 0,-1]])\n",
    "\n",
    "# valores de acotamiento de restricciones\n",
    "b = np.array([80,\n",
    "              40,\n",
    "              60,\n",
    "              -70,\n",
    "              -40,\n",
    "              -70])\n",
    "\n",
    "r = opt.linprog(C, A, b)\n",
    "r"
   ]
  },
  {
   "cell_type": "code",
   "execution_count": 8,
   "metadata": {},
   "outputs": [
    {
     "data": {
      "text/plain": [
       "     con: array([], dtype=float64)\n",
       "     fun: 540.0\n",
       " message: 'Optimization terminated successfully.'\n",
       "     nit: 9\n",
       "   slack: array([0., 0., 0., 0., 0., 0.])\n",
       "  status: 0\n",
       " success: True\n",
       "       x: array([30., 40., 10., 40.,  0.,  0.,  0.,  0., 60.])"
      ]
     },
     "execution_count": 8,
     "metadata": {},
     "output_type": "execute_result"
    }
   ],
   "source": [
    "r2 = opt.linprog(C, A, b, method=\"simplex\")\n",
    "r2"
   ]
  },
  {
   "cell_type": "code",
   "execution_count": null,
   "metadata": {},
   "outputs": [],
   "source": []
  }
 ],
 "metadata": {
  "kernelspec": {
   "display_name": "Python 3 (ipykernel)",
   "language": "python",
   "name": "python3"
  },
  "language_info": {
   "codemirror_mode": {
    "name": "ipython",
    "version": 3
   },
   "file_extension": ".py",
   "mimetype": "text/x-python",
   "name": "python",
   "nbconvert_exporter": "python",
   "pygments_lexer": "ipython3",
   "version": "3.9.7"
  }
 },
 "nbformat": 4,
 "nbformat_minor": 2
}
