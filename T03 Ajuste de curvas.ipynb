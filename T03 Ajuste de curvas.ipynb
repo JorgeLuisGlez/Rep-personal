{
 "cells": [
  {
   "cell_type": "markdown",
   "metadata": {},
   "source": [
    "# Tarea - Ajuste de curvas"
   ]
  },
  {
   "cell_type": "code",
   "execution_count": 1,
   "metadata": {},
   "outputs": [],
   "source": [
    "import numpy as np\n",
    "import pandas as pd\n",
    "import matplotlib.pyplot as plt"
   ]
  },
  {
   "cell_type": "markdown",
   "metadata": {},
   "source": [
    "---\n",
    "### Problema 1\n",
    "\n",
    "Los siguientes datos representan el costo en dólares de la electricidad según Western Electricity Coordinating Council desde el 2014 (y su pronóstico para el 2040)\n",
    "\n",
    "Tomado de:\n",
    "https://www.quandl.com/data/EIA/AEO_2016_REF_NO_CPP_PRCE_NA_COMM_NA_ELC_NA_WECCRKS_NCNTPKWH_A-Electricity-End-Use-Prices-Commercial-Western-Electricity-Coordinating-Council-Rockies-No-CPP-AEO2016"
   ]
  },
  {
   "cell_type": "code",
   "execution_count": 7,
   "metadata": {},
   "outputs": [],
   "source": [
    "# Datos extraidos de la página de quandl\n",
    "data = np.array([10.051101,  9.259127,  9.444813,  9.557723,  9.977324, 10.298326,\n",
    "       10.447217, 10.550506, 10.590784, 10.657418, 10.743085, 10.831965,\n",
    "       10.988435, 11.153055, 11.313326, 11.557165, 11.860136, 12.122511,\n",
    "       12.356448, 12.611391, 12.814569, 13.111372, 13.357134, 13.559012,\n",
    "       13.85861 , 14.135924, 14.436149])"
   ]
  },
  {
   "cell_type": "markdown",
   "metadata": {},
   "source": [
    "1. Ajuste estos datos a polinomios de grado 1 hasta 3 (los datos en $x$ corresponden a los años de 2014 a 2040, sin embargo son valores muy grandes para elevarlos a una potencia, use una representación para estos años, por ejemplo $2014 \\rightarrow 0$ y $2040\\rightarrow 26$).\n",
    "\n",
    "2. Muestre las tres curvas ajustadas junto a los datos de los costos en un solo gráfico"
   ]
  },
  {
   "cell_type": "code",
   "execution_count": 19,
   "metadata": {},
   "outputs": [],
   "source": [
    "import numpy as np\n",
    "import sympy as sp"
   ]
  },
  {
   "cell_type": "code",
   "execution_count": 20,
   "metadata": {},
   "outputs": [
    {
     "data": {
      "text/html": [
       "<div>\n",
       "<style scoped>\n",
       "    .dataframe tbody tr th:only-of-type {\n",
       "        vertical-align: middle;\n",
       "    }\n",
       "\n",
       "    .dataframe tbody tr th {\n",
       "        vertical-align: top;\n",
       "    }\n",
       "\n",
       "    .dataframe thead th {\n",
       "        text-align: right;\n",
       "    }\n",
       "</style>\n",
       "<table border=\"1\" class=\"dataframe\">\n",
       "  <thead>\n",
       "    <tr style=\"text-align: right;\">\n",
       "      <th></th>\n",
       "      <th>No.</th>\n",
       "      <th>Año</th>\n",
       "      <th>Costo</th>\n",
       "    </tr>\n",
       "  </thead>\n",
       "  <tbody>\n",
       "    <tr>\n",
       "      <th>0</th>\n",
       "      <td>0</td>\n",
       "      <td>2014</td>\n",
       "      <td>10.051101</td>\n",
       "    </tr>\n",
       "    <tr>\n",
       "      <th>1</th>\n",
       "      <td>1</td>\n",
       "      <td>2015</td>\n",
       "      <td>9.259127</td>\n",
       "    </tr>\n",
       "    <tr>\n",
       "      <th>2</th>\n",
       "      <td>2</td>\n",
       "      <td>2016</td>\n",
       "      <td>9.444813</td>\n",
       "    </tr>\n",
       "    <tr>\n",
       "      <th>3</th>\n",
       "      <td>3</td>\n",
       "      <td>2017</td>\n",
       "      <td>9.557723</td>\n",
       "    </tr>\n",
       "    <tr>\n",
       "      <th>4</th>\n",
       "      <td>4</td>\n",
       "      <td>2018</td>\n",
       "      <td>9.977324</td>\n",
       "    </tr>\n",
       "    <tr>\n",
       "      <th>5</th>\n",
       "      <td>5</td>\n",
       "      <td>2019</td>\n",
       "      <td>10.298326</td>\n",
       "    </tr>\n",
       "    <tr>\n",
       "      <th>6</th>\n",
       "      <td>6</td>\n",
       "      <td>2020</td>\n",
       "      <td>10.447217</td>\n",
       "    </tr>\n",
       "    <tr>\n",
       "      <th>7</th>\n",
       "      <td>7</td>\n",
       "      <td>2021</td>\n",
       "      <td>10.550506</td>\n",
       "    </tr>\n",
       "    <tr>\n",
       "      <th>8</th>\n",
       "      <td>8</td>\n",
       "      <td>2022</td>\n",
       "      <td>10.590784</td>\n",
       "    </tr>\n",
       "    <tr>\n",
       "      <th>9</th>\n",
       "      <td>9</td>\n",
       "      <td>2023</td>\n",
       "      <td>10.657418</td>\n",
       "    </tr>\n",
       "    <tr>\n",
       "      <th>10</th>\n",
       "      <td>10</td>\n",
       "      <td>2024</td>\n",
       "      <td>10.743085</td>\n",
       "    </tr>\n",
       "    <tr>\n",
       "      <th>11</th>\n",
       "      <td>11</td>\n",
       "      <td>2025</td>\n",
       "      <td>10.831965</td>\n",
       "    </tr>\n",
       "    <tr>\n",
       "      <th>12</th>\n",
       "      <td>12</td>\n",
       "      <td>2026</td>\n",
       "      <td>10.988435</td>\n",
       "    </tr>\n",
       "    <tr>\n",
       "      <th>13</th>\n",
       "      <td>13</td>\n",
       "      <td>2027</td>\n",
       "      <td>11.153055</td>\n",
       "    </tr>\n",
       "    <tr>\n",
       "      <th>14</th>\n",
       "      <td>14</td>\n",
       "      <td>2028</td>\n",
       "      <td>11.313326</td>\n",
       "    </tr>\n",
       "    <tr>\n",
       "      <th>15</th>\n",
       "      <td>15</td>\n",
       "      <td>2029</td>\n",
       "      <td>11.557165</td>\n",
       "    </tr>\n",
       "    <tr>\n",
       "      <th>16</th>\n",
       "      <td>16</td>\n",
       "      <td>2030</td>\n",
       "      <td>11.860136</td>\n",
       "    </tr>\n",
       "    <tr>\n",
       "      <th>17</th>\n",
       "      <td>17</td>\n",
       "      <td>2031</td>\n",
       "      <td>12.122511</td>\n",
       "    </tr>\n",
       "    <tr>\n",
       "      <th>18</th>\n",
       "      <td>18</td>\n",
       "      <td>2032</td>\n",
       "      <td>12.356448</td>\n",
       "    </tr>\n",
       "    <tr>\n",
       "      <th>19</th>\n",
       "      <td>19</td>\n",
       "      <td>2033</td>\n",
       "      <td>12.611391</td>\n",
       "    </tr>\n",
       "    <tr>\n",
       "      <th>20</th>\n",
       "      <td>20</td>\n",
       "      <td>2034</td>\n",
       "      <td>12.814569</td>\n",
       "    </tr>\n",
       "    <tr>\n",
       "      <th>21</th>\n",
       "      <td>21</td>\n",
       "      <td>2035</td>\n",
       "      <td>13.111372</td>\n",
       "    </tr>\n",
       "    <tr>\n",
       "      <th>22</th>\n",
       "      <td>22</td>\n",
       "      <td>2036</td>\n",
       "      <td>13.357134</td>\n",
       "    </tr>\n",
       "    <tr>\n",
       "      <th>23</th>\n",
       "      <td>23</td>\n",
       "      <td>2037</td>\n",
       "      <td>13.559012</td>\n",
       "    </tr>\n",
       "    <tr>\n",
       "      <th>24</th>\n",
       "      <td>24</td>\n",
       "      <td>2038</td>\n",
       "      <td>13.858610</td>\n",
       "    </tr>\n",
       "    <tr>\n",
       "      <th>25</th>\n",
       "      <td>25</td>\n",
       "      <td>2039</td>\n",
       "      <td>14.135924</td>\n",
       "    </tr>\n",
       "    <tr>\n",
       "      <th>26</th>\n",
       "      <td>26</td>\n",
       "      <td>2040</td>\n",
       "      <td>14.436149</td>\n",
       "    </tr>\n",
       "  </tbody>\n",
       "</table>\n",
       "</div>"
      ],
      "text/plain": [
       "    No.   Año      Costo\n",
       "0     0  2014  10.051101\n",
       "1     1  2015   9.259127\n",
       "2     2  2016   9.444813\n",
       "3     3  2017   9.557723\n",
       "4     4  2018   9.977324\n",
       "5     5  2019  10.298326\n",
       "6     6  2020  10.447217\n",
       "7     7  2021  10.550506\n",
       "8     8  2022  10.590784\n",
       "9     9  2023  10.657418\n",
       "10   10  2024  10.743085\n",
       "11   11  2025  10.831965\n",
       "12   12  2026  10.988435\n",
       "13   13  2027  11.153055\n",
       "14   14  2028  11.313326\n",
       "15   15  2029  11.557165\n",
       "16   16  2030  11.860136\n",
       "17   17  2031  12.122511\n",
       "18   18  2032  12.356448\n",
       "19   19  2033  12.611391\n",
       "20   20  2034  12.814569\n",
       "21   21  2035  13.111372\n",
       "22   22  2036  13.357134\n",
       "23   23  2037  13.559012\n",
       "24   24  2038  13.858610\n",
       "25   25  2039  14.135924\n",
       "26   26  2040  14.436149"
      ]
     },
     "execution_count": 20,
     "metadata": {},
     "output_type": "execute_result"
    }
   ],
   "source": [
    "import pandas as pd\n",
    "datos = pd.read_csv(\"Problema 1.csv\")\n",
    "datos"
   ]
  },
  {
   "cell_type": "code",
   "execution_count": 21,
   "metadata": {},
   "outputs": [
    {
     "data": {
      "image/png": "[encoded data removed]",
      "text/plain": [
       "<Figure size 432x288 with 1 Axes>"
      ]
     },
     "metadata": {
      "needs_background": "light"
     },
     "output_type": "display_data"
    }
   ],
   "source": [
    "import matplotlib.pyplot as plt\n",
    "\n",
    "x = datos[\"No.\"]\n",
    "y = datos[\"Costo\"]\n",
    "plt.figure()\n",
    "plt.scatter(x, y, s=5)\n",
    "plt.grid()"
   ]
  },
  {
   "cell_type": "code",
   "execution_count": 24,
   "metadata": {},
   "outputs": [
    {
     "data": {
      "text/plain": [
       "      fun: 2.370488951815328\n",
       " hess_inv: array([[ 0.07010582, -0.00396825],\n",
       "       [-0.00396825,  0.00030525]])\n",
       "      jac: array([-1.19209290e-07, -3.27825546e-07])\n",
       "  message: 'Optimization terminated successfully.'\n",
       "     nfev: 27\n",
       "      nit: 5\n",
       "     njev: 9\n",
       "   status: 0\n",
       "  success: True\n",
       "        x: array([9.11567632, 0.18667056])"
      ]
     },
     "execution_count": 24,
     "metadata": {},
     "output_type": "execute_result"
    }
   ],
   "source": [
    "import scipy.optimize as opt\n",
    "\n",
    "def funcion_costo1(theta, x, y):\n",
    "    prediccion = theta[0] + theta[1]*x\n",
    "    error = y - prediccion\n",
    "    error2 = error**2\n",
    "    return np.sum(error2)\n",
    "\n",
    "theta_inicial_1 = np.random.rand(2)\n",
    "sol = opt.minimize(funcion_costo1, theta_inicial_1, args=(x,y))\n",
    "\n",
    "costo1 = sol.fun\n",
    "resultados1 = sol.x\n",
    "sol"
   ]
  },
  {
   "cell_type": "code",
   "execution_count": 25,
   "metadata": {
    "scrolled": true
   },
   "outputs": [
    {
     "data": {
      "text/plain": [
       "      fun: 0.8443845193697458\n",
       " hess_inv: array([[ 1.44449889e-01, -2.17912233e-02,  6.85157744e-04],\n",
       "       [-2.17912233e-02,  4.57977019e-03, -1.64352570e-04],\n",
       "       [ 6.85157744e-04, -1.64352570e-04,  6.31976781e-06]])\n",
       "      jac: array([1.51917338e-05, 3.13185155e-04, 6.64802641e-03])\n",
       "  message: 'Desired error not necessarily achieved due to precision loss.'\n",
       "     nfev: 156\n",
       "      nit: 9\n",
       "     njev: 36\n",
       "   status: 2\n",
       "  success: False\n",
       "        x: array([9.59128637e+00, 7.25241385e-02, 4.39024816e-03])"
      ]
     },
     "execution_count": 25,
     "metadata": {},
     "output_type": "execute_result"
    }
   ],
   "source": [
    "def funcion_costo2(theta, x, y):\n",
    "    prediccion = theta[0] + theta[1]*x + theta[2]*x**2\n",
    "    error = y - prediccion\n",
    "    error2 = error**2\n",
    "    return np.sum(error2)\n",
    "\n",
    "theta_inicial_2 = np.random.rand(3)\n",
    "sol = opt.minimize(funcion_costo2, theta_inicial_2, args=(x,y))\n",
    "\n",
    "costo2 = sol.fun\n",
    "resultados2 = sol.x\n",
    "sol"
   ]
  },
  {
   "cell_type": "code",
   "execution_count": 26,
   "metadata": {
    "scrolled": true
   },
   "outputs": [
    {
     "data": {
      "text/plain": [
       "      fun: 0.8404346758577307\n",
       " hess_inv: array([[ 2.27239525e-01, -6.41154210e-02,  4.83488355e-03,\n",
       "        -1.06428255e-04],\n",
       "       [-6.41154210e-02,  2.61882131e-02, -2.28212599e-03,\n",
       "         5.43057026e-05],\n",
       "       [ 4.83488355e-03, -2.28212599e-03,  2.13850635e-04,\n",
       "        -5.32141317e-06],\n",
       "       [-1.06428255e-04,  5.43057026e-05, -5.32141317e-06,\n",
       "         1.36446493e-07]])\n",
       "      jac: array([ 1.49011612e-08, -7.45058060e-09, -4.47034836e-08, -1.78813934e-07])\n",
       "  message: 'Optimization terminated successfully.'\n",
       "     nfev: 50\n",
       "      nit: 5\n",
       "     njev: 10\n",
       "   status: 0\n",
       "  success: True\n",
       "        x: array([9.56752299e+00, 8.46495830e-02, 3.20207445e-03, 3.04659683e-05])"
      ]
     },
     "execution_count": 26,
     "metadata": {},
     "output_type": "execute_result"
    }
   ],
   "source": [
    "def funcion_costo3(theta, x, y):\n",
    "    prediccion = theta[0] + theta[1]*x + theta[2]*x**2 + theta[3]*x**3\n",
    "    error = y - prediccion\n",
    "    error2 = error**2\n",
    "    return np.sum(error2)\n",
    "\n",
    "theta_inicial_3 = np.random.rand(4)\n",
    "sol = opt.minimize(funcion_costo3, theta_inicial_3, args=(x,y))\n",
    "\n",
    "costo3 = sol.fun\n",
    "resultados3 = sol.x\n",
    "sol"
   ]
  },
  {
   "cell_type": "code",
   "execution_count": 27,
   "metadata": {},
   "outputs": [
    {
     "data": {
      "text/plain": [
       "<matplotlib.legend.Legend at 0x27d53693d30>"
      ]
     },
     "execution_count": 27,
     "metadata": {},
     "output_type": "execute_result"
    },
    {
     "data": {
      "image/png": "[encoded data removed]",
      "text/plain": [
       "<Figure size 432x288 with 1 Axes>"
      ]
     },
     "metadata": {
      "needs_background": "light"
     },
     "output_type": "display_data"
    }
   ],
   "source": [
    "xn = np.linspace(0, 35, 200)\n",
    "yn1 = resultados1[0] + resultados1[1]*xn\n",
    "yn2 = resultados2[0] + resultados2[1]*xn + resultados2[2]*xn**2\n",
    "yn3 = resultados3[0] + resultados3[1]*xn + resultados3[2]*xn**2 + resultados3[3]*xn**3\n",
    "\n",
    "import matplotlib.pyplot as plt\n",
    "plt.figure()\n",
    "plt.scatter(x, y, s=5)\n",
    "plt.plot(xn, yn1, label=\"Linea\")\n",
    "plt.plot(xn, yn2, label=\"Cuadrado\")\n",
    "plt.plot(xn, yn3, label=\"Cubo\")\n",
    "plt.legend(loc=\"best\")"
   ]
  },
  {
   "cell_type": "markdown",
   "metadata": {},
   "source": [
    "___\n",
    "### Problema 2\n",
    "\n",
    "El archivo `population_data.csv` contiene información histórica anual de México relativa a la población, nacimientos y muertes desde el año 1950 hasta el año 2015. La primer columna corresponde a los años, la segunda a la población, la tercera a los nacimientos y la última a los decesos.\n",
    "\n",
    "Tomado de: https://en.wikipedia.org/wiki/Demographics_of_Mexico.\n",
    "\n",
    "Importe estos datos usando la función `read_csv` del paquete `pandas`\n",
    "\n",
    "1. Usando los años como variable independiente $x$ y la población como variable dependiente $y$, ajustar polinomios de grado 1 hasta grado 3.\n",
    "\n",
    "    * Mostrar en un solo gráfico los datos de población contra los años, y los polinomios ajustados.\n",
    "\n",
    "    * Graficar el error cuadrático acumulado contra el número de términos.\n",
    "\n",
    "2. Repetir el punto 1 usando los nacimientos como variable dependiente $y$. Grafique las curvas ajustadas junto con los datos de nacimientos. Vea en un gráfico el error acumulado."
   ]
  },
  {
   "cell_type": "code",
   "execution_count": 28,
   "metadata": {},
   "outputs": [
    {
     "data": {
      "text/html": [
       "<div>\n",
       "<style scoped>\n",
       "    .dataframe tbody tr th:only-of-type {\n",
       "        vertical-align: middle;\n",
       "    }\n",
       "\n",
       "    .dataframe tbody tr th {\n",
       "        vertical-align: top;\n",
       "    }\n",
       "\n",
       "    .dataframe thead th {\n",
       "        text-align: right;\n",
       "    }\n",
       "</style>\n",
       "<table border=\"1\" class=\"dataframe\">\n",
       "  <thead>\n",
       "    <tr style=\"text-align: right;\">\n",
       "      <th></th>\n",
       "      <th>Year</th>\n",
       "      <th>Poblacion</th>\n",
       "      <th>Nacimientos</th>\n",
       "      <th>Decesos</th>\n",
       "    </tr>\n",
       "  </thead>\n",
       "  <tbody>\n",
       "    <tr>\n",
       "      <th>0</th>\n",
       "      <td>1950</td>\n",
       "      <td>28296</td>\n",
       "      <td>1174947</td>\n",
       "      <td>418430</td>\n",
       "    </tr>\n",
       "    <tr>\n",
       "      <th>1</th>\n",
       "      <td>1951</td>\n",
       "      <td>29110</td>\n",
       "      <td>1183788</td>\n",
       "      <td>458238</td>\n",
       "    </tr>\n",
       "    <tr>\n",
       "      <th>2</th>\n",
       "      <td>1952</td>\n",
       "      <td>29980</td>\n",
       "      <td>1195209</td>\n",
       "      <td>408823</td>\n",
       "    </tr>\n",
       "    <tr>\n",
       "      <th>3</th>\n",
       "      <td>1953</td>\n",
       "      <td>30904</td>\n",
       "      <td>1261775</td>\n",
       "      <td>446127</td>\n",
       "    </tr>\n",
       "    <tr>\n",
       "      <th>4</th>\n",
       "      <td>1954</td>\n",
       "      <td>31880</td>\n",
       "      <td>1339837</td>\n",
       "      <td>378752</td>\n",
       "    </tr>\n",
       "    <tr>\n",
       "      <th>...</th>\n",
       "      <td>...</td>\n",
       "      <td>...</td>\n",
       "      <td>...</td>\n",
       "      <td>...</td>\n",
       "    </tr>\n",
       "    <tr>\n",
       "      <th>61</th>\n",
       "      <td>2011</td>\n",
       "      <td>115683</td>\n",
       "      <td>2586287</td>\n",
       "      <td>590693</td>\n",
       "    </tr>\n",
       "    <tr>\n",
       "      <th>62</th>\n",
       "      <td>2012</td>\n",
       "      <td>117054</td>\n",
       "      <td>2498880</td>\n",
       "      <td>602354</td>\n",
       "    </tr>\n",
       "    <tr>\n",
       "      <th>63</th>\n",
       "      <td>2013</td>\n",
       "      <td>118395</td>\n",
       "      <td>2478889</td>\n",
       "      <td>623599</td>\n",
       "    </tr>\n",
       "    <tr>\n",
       "      <th>64</th>\n",
       "      <td>2014</td>\n",
       "      <td>119713</td>\n",
       "      <td>2463420</td>\n",
       "      <td>633641</td>\n",
       "    </tr>\n",
       "    <tr>\n",
       "      <th>65</th>\n",
       "      <td>2015</td>\n",
       "      <td>121005</td>\n",
       "      <td>2353596</td>\n",
       "      <td>655694</td>\n",
       "    </tr>\n",
       "  </tbody>\n",
       "</table>\n",
       "<p>66 rows × 4 columns</p>\n",
       "</div>"
      ],
      "text/plain": [
       "    Year  Poblacion  Nacimientos  Decesos\n",
       "0   1950      28296      1174947   418430\n",
       "1   1951      29110      1183788   458238\n",
       "2   1952      29980      1195209   408823\n",
       "3   1953      30904      1261775   446127\n",
       "4   1954      31880      1339837   378752\n",
       "..   ...        ...          ...      ...\n",
       "61  2011     115683      2586287   590693\n",
       "62  2012     117054      2498880   602354\n",
       "63  2013     118395      2478889   623599\n",
       "64  2014     119713      2463420   633641\n",
       "65  2015     121005      2353596   655694\n",
       "\n",
       "[66 rows x 4 columns]"
      ]
     },
     "execution_count": 28,
     "metadata": {},
     "output_type": "execute_result"
    }
   ],
   "source": [
    "import numpy as np\n",
    "import sympy as sp\n",
    "\n",
    "data = pd.read_csv('population_data.csv')\n",
    "data"
   ]
  },
  {
   "cell_type": "code",
   "execution_count": 4,
   "metadata": {
    "scrolled": true
   },
   "outputs": [
    {
     "data": {
      "image/png": "[encoded data removed]",
      "text/plain": [
       "<Figure size 432x288 with 1 Axes>"
      ]
     },
     "metadata": {
      "needs_background": "light"
     },
     "output_type": "display_data"
    }
   ],
   "source": [
    "# Se muestra la gráfica. Vea como los datos son escalados, esto le ayudará en el cálculo\n",
    "# de la regresión.\n",
    "\n",
    "plt.plot(data.values[:,0],data.values[:,1]/1000,label=data.columns[1]+' en miles')\n",
    "plt.plot(data.values[:,0],data.values[:,2]/10000,'r',label=data.columns[2]+' en decenas de miles')\n",
    "plt.legend(loc=2)\n",
    "plt.xlabel(data.columns[0])\n",
    "plt.grid()"
   ]
  },
  {
   "cell_type": "markdown",
   "metadata": {},
   "source": [
    "---"
   ]
  },
  {
   "cell_type": "code",
   "execution_count": 47,
   "metadata": {},
   "outputs": [
    {
     "data": {
      "image/png": "[encoded data removed]",
      "text/plain": [
       "<Figure size 432x288 with 1 Axes>"
      ]
     },
     "metadata": {
      "needs_background": "light"
     },
     "output_type": "display_data"
    }
   ],
   "source": [
    "x = data[\"Year\"]\n",
    "y = data[\"Poblacion\"]\n",
    "plt.figure()\n",
    "plt.scatter(x, y, s=10)\n",
    "plt.grid()"
   ]
  },
  {
   "cell_type": "code",
   "execution_count": 48,
   "metadata": {},
   "outputs": [
    {
     "data": {
      "text/plain": [
       "      fun: 212137170.43929267\n",
       " hess_inv: array([[ 2.01095628e+01, -1.01428335e-02],\n",
       "       [-1.01428335e-02,  5.11772996e-06]])\n",
       "      jac: array([-4.000e+00, -8.868e+03])\n",
       "  message: 'Desired error not necessarily achieved due to precision loss.'\n",
       "     nfev: 177\n",
       "      nit: 11\n",
       "     njev: 55\n",
       "   status: 2\n",
       "  success: False\n",
       "        x: array([-2.98662172e+06,  1.54397924e+03])"
      ]
     },
     "execution_count": 48,
     "metadata": {},
     "output_type": "execute_result"
    }
   ],
   "source": [
    "import scipy.optimize as opt\n",
    "\n",
    "x = data[\"Year\"]\n",
    "y = data[\"Poblacion\"]\n",
    "\n",
    "def funcion1(theta, x, y):\n",
    "    prediccion = theta[0] + theta[1]*x\n",
    "    error = y - prediccion\n",
    "    error2 = error**2\n",
    "    return np.sum(error2)\n",
    "\n",
    "theta_i1 = np.random.rand(2)\n",
    "sol = opt.minimize(funcion1, theta_i1, args=(x,y))\n",
    "\n",
    "pob1 = sol.fun\n",
    "resul1 = sol.x\n",
    "sol"
   ]
  },
  {
   "cell_type": "code",
   "execution_count": 49,
   "metadata": {},
   "outputs": [
    {
     "data": {
      "text/plain": [
       "      fun: 211292533.32012996\n",
       " hess_inv: array([[ 6.80781536e+05, -6.78017013e+02,  1.68846447e-01],\n",
       "       [-6.78017016e+02,  6.75279955e-01, -1.68169021e-04],\n",
       "       [ 1.68846448e-01, -1.68169021e-04,  4.18812183e-08]])\n",
       "      jac: array([-1.70400000e+03, -3.36464200e+06, -6.63524454e+09])\n",
       "  message: 'Desired error not necessarily achieved due to precision loss.'\n",
       "     nfev: 384\n",
       "      nit: 14\n",
       "     njev: 93\n",
       "   status: 2\n",
       "  success: False\n",
       "        x: array([-4.88807853e+05, -9.76307649e+02,  6.35678538e-01])"
      ]
     },
     "execution_count": 49,
     "metadata": {},
     "output_type": "execute_result"
    }
   ],
   "source": [
    "def funcion2(theta, x, y):\n",
    "    prediccion = theta[0] + theta[1]*x + theta[2]*x**2\n",
    "    error = y - prediccion\n",
    "    error2 = error**2\n",
    "    return np.sum(error2)\n",
    "\n",
    "theta_i2 = np.random.rand(3)\n",
    "sol = opt.minimize(funcion2, theta_i2, args=(x,y))\n",
    "\n",
    "pob2 = sol.fun\n",
    "resul2 = sol.x\n",
    "sol"
   ]
  },
  {
   "cell_type": "code",
   "execution_count": 50,
   "metadata": {},
   "outputs": [
    {
     "data": {
      "text/plain": [
       "      fun: 2278622538.03367\n",
       " hess_inv: array([[ 1.59294590e-09,  7.38085218e-09,  5.02501617e-11,\n",
       "        -2.72112498e-14],\n",
       "       [ 7.38096153e-09,  3.28370423e-07,  5.58831549e-10,\n",
       "        -3.65278927e-13],\n",
       "       [ 5.02500557e-11,  5.58831540e-10,  3.86552279e-12,\n",
       "        -2.09094635e-15],\n",
       "       [-2.72112241e-14, -3.65278923e-13, -2.09094635e-15,\n",
       "         1.14719188e-18]])\n",
       "      jac: array([ 1.33440000e+04,  1.25802880e+07, -2.61831632e+09, -1.69658480e+11])\n",
       "  message: 'Desired error not necessarily achieved due to precision loss.'\n",
       "     nfev: 312\n",
       "      nit: 10\n",
       "     njev: 60\n",
       "   status: 2\n",
       "  success: False\n",
       "        x: array([ 6.87880388e+01, -7.13636007e+03,  6.62373651e+00, -1.51572335e-03])"
      ]
     },
     "execution_count": 50,
     "metadata": {},
     "output_type": "execute_result"
    }
   ],
   "source": [
    "def funcion3(theta, x, y):\n",
    "    prediccion = theta[0] + theta[1]*x + theta[2]*x**2 + theta[3]*x**3\n",
    "    error = y - prediccion\n",
    "    error2 = error**2\n",
    "    return np.sum(error2)\n",
    "\n",
    "theta_i3 = np.random.rand(4)\n",
    "sol = opt.minimize(funcion3, theta_i3, args=(x,y))\n",
    "\n",
    "pob3 = sol.fun\n",
    "resul3 = sol.x\n",
    "sol"
   ]
  },
  {
   "cell_type": "code",
   "execution_count": 53,
   "metadata": {},
   "outputs": [
    {
     "data": {
      "text/plain": [
       "<matplotlib.legend.Legend at 0x27d54f3ef70>"
      ]
     },
     "execution_count": 53,
     "metadata": {},
     "output_type": "execute_result"
    },
    {
     "data": {
      "image/png": "[encoded data removed]",
      "text/plain": [
       "<Figure size 432x288 with 1 Axes>"
      ]
     },
     "metadata": {
      "needs_background": "light"
     },
     "output_type": "display_data"
    }
   ],
   "source": [
    "xn = np.linspace(1950, 2010, 10)\n",
    "yn1 = resul1[0] + resul1[1]*xn\n",
    "yn2 = resul2[0] + resul2[1]*xn + resul2[2]*xn**2\n",
    "yn3 = resul3[0] + resul3[1]*xn + resul3[2]*xn**2 + resul3[3]*xn**3\n",
    "\n",
    "import matplotlib.pyplot as plt\n",
    "plt.figure()\n",
    "plt.scatter(x, y, s=10)\n",
    "plt.plot(xn, yn1, label=\"Linea\")\n",
    "plt.plot(xn, yn2, label=\"Cuadrado\")\n",
    "plt.plot(xn, yn3, label=\"Cubo\")\n",
    "plt.legend(loc=\"best\")"
   ]
  },
  {
   "cell_type": "code",
   "execution_count": null,
   "metadata": {},
   "outputs": [],
   "source": []
  }
 ],
 "metadata": {
  "kernelspec": {
   "display_name": "Python 3 (ipykernel)",
   "language": "python",
   "name": "python3"
  },
  "language_info": {
   "codemirror_mode": {
    "name": "ipython",
    "version": 3
   },
   "file_extension": ".py",
   "mimetype": "text/x-python",
   "name": "python",
   "nbconvert_exporter": "python",
   "pygments_lexer": "ipython3",
   "version": "3.9.7"
  }
 },
 "nbformat": 4,
 "nbformat_minor": 2
}
