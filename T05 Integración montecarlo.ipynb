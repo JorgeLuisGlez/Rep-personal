{
 "cells": [
  {
   "cell_type": "markdown",
   "metadata": {},
   "source": [
    "# TAREA"
   ]
  },
  {
   "cell_type": "markdown",
   "metadata": {},
   "source": [
    "## Integración Montecarlo"
   ]
  },
  {
   "cell_type": "markdown",
   "metadata": {},
   "source": [
    "1. Realizar las siguientes integrales. Poner los resultados en una tabla cuyas filas correspondan a la cantidad de términos utilizados en la aproximación (usar 10, 100, 1000, 10000 y 100000 términos) y cuyas columnas correspondan a las funciones.\n",
    "    + $\\int_{1}^{3} e^{x}\\log(x)\\text{d}x$.\n",
    "    + $\\int_1^3 \\sin(x)\\ln(x) \\text{d}x$"
   ]
  },
  {
   "cell_type": "code",
   "execution_count": 10,
   "metadata": {},
   "outputs": [],
   "source": [
    "import numpy as np\n",
    "import pandas as pd"
   ]
  },
  {
   "cell_type": "code",
   "execution_count": 11,
   "metadata": {},
   "outputs": [],
   "source": [
    "def montecarlo1(f, a, b, N):\n",
    "    # Generar valores uniformemente distribuidos\n",
    "    ui = (b - a) * np.random.rand(N) + a\n",
    "    # Valor promedio\n",
    "    VP = (1/N) * np.sum(f(ui))\n",
    "    # Área aproximada\n",
    "    AD_aprox = (b - a) * VP\n",
    "\n",
    "    return AD_aprox"
   ]
  },
  {
   "cell_type": "code",
   "execution_count": 12,
   "metadata": {},
   "outputs": [],
   "source": [
    "# Función\n",
    "def funcion1(x):\n",
    "    return np.exp(x) * np.log(x)\n",
    "\n",
    "# Límites de integración\n",
    "a = 1\n",
    "b = 3\n",
    "\n",
    "# Cantidad de términos\n",
    "N = np.logspace(1, 5, 5)"
   ]
  },
  {
   "cell_type": "code",
   "execution_count": 13,
   "metadata": {},
   "outputs": [],
   "source": [
    "# Función\n",
    "def funcion2(x):\n",
    "    return np.sin(x) * np.log(x)\n",
    "\n",
    "# Límites de integración\n",
    "a = 1\n",
    "b = 3\n",
    "\n",
    "# Cantidad de términos\n",
    "N = np.logspace(1, 5, 5)"
   ]
  },
  {
   "cell_type": "code",
   "execution_count": 14,
   "metadata": {},
   "outputs": [
    {
     "data": {
      "text/html": [
       "<div>\n",
       "<style scoped>\n",
       "    .dataframe tbody tr th:only-of-type {\n",
       "        vertical-align: middle;\n",
       "    }\n",
       "\n",
       "    .dataframe tbody tr th {\n",
       "        vertical-align: top;\n",
       "    }\n",
       "\n",
       "    .dataframe thead th {\n",
       "        text-align: right;\n",
       "    }\n",
       "</style>\n",
       "<table border=\"1\" class=\"dataframe\">\n",
       "  <thead>\n",
       "    <tr style=\"text-align: right;\">\n",
       "      <th></th>\n",
       "      <th>Aproximación función 1</th>\n",
       "      <th>Aproximación función 2</th>\n",
       "    </tr>\n",
       "    <tr>\n",
       "      <th>Cantidad de términos</th>\n",
       "      <th></th>\n",
       "      <th></th>\n",
       "    </tr>\n",
       "  </thead>\n",
       "  <tbody>\n",
       "    <tr>\n",
       "      <th>10.0</th>\n",
       "      <td>13.268596</td>\n",
       "      <td>0.766649</td>\n",
       "    </tr>\n",
       "    <tr>\n",
       "      <th>100.0</th>\n",
       "      <td>14.563926</td>\n",
       "      <td>0.834881</td>\n",
       "    </tr>\n",
       "    <tr>\n",
       "      <th>1000.0</th>\n",
       "      <td>14.191048</td>\n",
       "      <td>0.888732</td>\n",
       "    </tr>\n",
       "    <tr>\n",
       "      <th>10000.0</th>\n",
       "      <td>13.848589</td>\n",
       "      <td>0.87071</td>\n",
       "    </tr>\n",
       "    <tr>\n",
       "      <th>100000.0</th>\n",
       "      <td>14.078354</td>\n",
       "      <td>0.868264</td>\n",
       "    </tr>\n",
       "  </tbody>\n",
       "</table>\n",
       "</div>"
      ],
      "text/plain": [
       "                     Aproximación función 1 Aproximación función 2\n",
       "Cantidad de términos                                              \n",
       "10.0                              13.268596               0.766649\n",
       "100.0                             14.563926               0.834881\n",
       "1000.0                            14.191048               0.888732\n",
       "10000.0                           13.848589                0.87071\n",
       "100000.0                          14.078354               0.868264"
      ]
     },
     "execution_count": 14,
     "metadata": {},
     "output_type": "execute_result"
    }
   ],
   "source": [
    "tabla = pd.DataFrame(index = N, columns = ['Aproximación función 1', 'Aproximación función 2'])\n",
    "tabla.index.name = 'Cantidad de términos'\n",
    "\n",
    "for n in N:\n",
    "    tabla.loc[n, 'Aproximación función 1'] = montecarlo1(funcion1, a, b, int(n))\n",
    "    tabla.loc[n, 'Aproximación función 2'] = montecarlo1(funcion2, a, b, int(n))\n",
    "tabla"
   ]
  },
  {
   "cell_type": "markdown",
   "metadata": {},
   "source": [
    "2. Aproximar el área de la región descrita por\n",
    "\n",
    "$$x^2+2y^2\\leq-2x+8y-7$$\n",
    "\n",
    "Poner los resultados en una tabla cuyas filas correspondan a la cantidad de términos utilizados en la aproximación (usar 10, 100, 1000, 10000 y 100000 términos) y en las columnas el valor de aproximación y el error relativo.\n",
    "\n",
    "Definir unos límites adecuados $a_1$, $b_1$, $a_2$ y $b_2$, para la región $R=\\left[a_1,b_1\\right]\\times\\left[a_2,b_2\\right]$"
   ]
  },
  {
   "cell_type": "code",
   "execution_count": 15,
   "metadata": {},
   "outputs": [],
   "source": [
    "import numpy as np\n",
    "import matplotlib.pyplot as plt\n",
    "import pandas as pd"
   ]
  },
  {
   "cell_type": "code",
   "execution_count": 28,
   "metadata": {},
   "outputs": [
    {
     "data": {
      "image/png": "[encoded data removed]",
      "text/plain": [
       "<Figure size 432x432 with 1 Axes>"
      ]
     },
     "metadata": {
      "needs_background": "light"
     },
     "output_type": "display_data"
    }
   ],
   "source": [
    "def region(x, y):\n",
    "    return x**2 + 2*y**2 <= -2*x + 8*y - 7\n",
    "\n",
    "P = 1000\n",
    "\n",
    "xnum = np.linspace(-1-np.sqrt(2), np.sqrt(2)-1, P)\n",
    "ynum = np.linspace(1, 3, P)\n",
    "\n",
    "X, Y = np.meshgrid(xnum, ynum)\n",
    "\n",
    "plt.figure(figsize = (6,6))\n",
    "plt.scatter(X, Y, \n",
    "            c = ~region(X, Y),\n",
    "            cmap = 'bone')\n",
    "plt.grid()"
   ]
  },
  {
   "cell_type": "markdown",
   "metadata": {},
   "source": [
    "$$A = ra * rb * \\pi$$\n",
    "<p>Donde:</p>\n",
    "<p>$ra$ = radio del largo</p>\n",
    "<p>$rb$ = radio del ancho</p>"
   ]
  },
  {
   "cell_type": "code",
   "execution_count": 29,
   "metadata": {},
   "outputs": [
    {
     "data": {
      "text/plain": [
       "4.442882938158366"
      ]
     },
     "execution_count": 29,
     "metadata": {},
     "output_type": "execute_result"
    }
   ],
   "source": [
    "# Calcular el área del Elipse\n",
    "ra = 1\n",
    "rb = np.sqrt(2)\n",
    "Ae = ra * rb * np.pi\n",
    "Ae"
   ]
  },
  {
   "cell_type": "code",
   "execution_count": 30,
   "metadata": {},
   "outputs": [],
   "source": [
    "def montecarlo(region, a1, b1, a2, b2, N):\n",
    "    # Área del rectángulo\n",
    "    AR = (b1 - a1)*(b2 - a2)\n",
    "    # Generar los puntos (x,y) aleatorios\n",
    "    x = np.random.uniform(a1, b1, N)\n",
    "    y = np.random.uniform(a2, b2, N)\n",
    "    \n",
    "    bi = region(x, y)\n",
    "    AD_aprox = AR * (1/N) * np.sum(bi)\n",
    "    return AD_aprox"
   ]
  },
  {
   "cell_type": "code",
   "execution_count": 31,
   "metadata": {},
   "outputs": [
    {
     "data": {
      "text/html": [
       "<div>\n",
       "<style scoped>\n",
       "    .dataframe tbody tr th:only-of-type {\n",
       "        vertical-align: middle;\n",
       "    }\n",
       "\n",
       "    .dataframe tbody tr th {\n",
       "        vertical-align: top;\n",
       "    }\n",
       "\n",
       "    .dataframe thead th {\n",
       "        text-align: right;\n",
       "    }\n",
       "</style>\n",
       "<table border=\"1\" class=\"dataframe\">\n",
       "  <thead>\n",
       "    <tr style=\"text-align: right;\">\n",
       "      <th></th>\n",
       "      <th>Aproximación</th>\n",
       "      <th>Error relativo</th>\n",
       "    </tr>\n",
       "    <tr>\n",
       "      <th>Cantidad de términos</th>\n",
       "      <th></th>\n",
       "      <th></th>\n",
       "    </tr>\n",
       "  </thead>\n",
       "  <tbody>\n",
       "    <tr>\n",
       "      <th>1</th>\n",
       "      <td>6.0</td>\n",
       "      <td>1.557117</td>\n",
       "    </tr>\n",
       "    <tr>\n",
       "      <th>10</th>\n",
       "      <td>3.6</td>\n",
       "      <td>0.842883</td>\n",
       "    </tr>\n",
       "    <tr>\n",
       "      <th>100</th>\n",
       "      <td>4.5</td>\n",
       "      <td>0.057117</td>\n",
       "    </tr>\n",
       "    <tr>\n",
       "      <th>1000</th>\n",
       "      <td>4.434</td>\n",
       "      <td>0.008883</td>\n",
       "    </tr>\n",
       "    <tr>\n",
       "      <th>10000</th>\n",
       "      <td>4.4622</td>\n",
       "      <td>0.019317</td>\n",
       "    </tr>\n",
       "    <tr>\n",
       "      <th>100000</th>\n",
       "      <td>4.44402</td>\n",
       "      <td>0.001137</td>\n",
       "    </tr>\n",
       "  </tbody>\n",
       "</table>\n",
       "</div>"
      ],
      "text/plain": [
       "                     Aproximación Error relativo\n",
       "Cantidad de términos                            \n",
       "1                             6.0       1.557117\n",
       "10                            3.6       0.842883\n",
       "100                           4.5       0.057117\n",
       "1000                        4.434       0.008883\n",
       "10000                      4.4622       0.019317\n",
       "100000                    4.44402       0.001137"
      ]
     },
     "execution_count": 31,
     "metadata": {},
     "output_type": "execute_result"
    }
   ],
   "source": [
    "a1 = -2.5\n",
    "b1 = 0.5\n",
    "a2 = 1\n",
    "b2 = 3\n",
    "\n",
    "N = np.logspace(0, 5, 6).astype(int)\n",
    "\n",
    "tabla = pd.DataFrame(index=N,\n",
    "                     columns = ['Aproximación', 'Error relativo'])\n",
    "\n",
    "tabla.index.name = 'Cantidad de términos'\n",
    "\n",
    "for n in N:\n",
    "    AD_aprox = montecarlo(region, a1, b1, a2, b2, int(n))\n",
    "    tabla.loc[n, 'Aproximación'] = AD_aprox\n",
    "    \n",
    "tabla['Error relativo'] = np.abs(Ae - tabla['Aproximación'])\n",
    "tabla"
   ]
  },
  {
   "cell_type": "code",
   "execution_count": null,
   "metadata": {},
   "outputs": [],
   "source": []
  }
 ],
 "metadata": {
  "kernelspec": {
   "display_name": "Python 3 (ipykernel)",
   "language": "python",
   "name": "python3"
  },
  "language_info": {
   "codemirror_mode": {
    "name": "ipython",
    "version": 3
   },
   "file_extension": ".py",
   "mimetype": "text/x-python",
   "name": "python",
   "nbconvert_exporter": "python",
   "pygments_lexer": "ipython3",
   "version": "3.9.7"
  }
 },
 "nbformat": 4,
 "nbformat_minor": 2
}
